{
  "cells": [
    {
      "cell_type": "markdown",
      "metadata": {
        "id": "kmjbuK6RRvZq"
      },
      "source": [
        "# **Network Attacks Detection**\n",
        "\n",
        "*Dataset: KDD Cup 1999*\n",
        "* [Data Description](http://kdd.ics.uci.edu/databases/kddcup99/kddcup99.html)\n",
        "\n",
        "\n"
      ]
    },
    {
      "cell_type": "markdown",
      "metadata": {
        "id": "cn-10H9DETSE"
      },
      "source": [
        "## Data Settings"
      ]
    },
    {
      "cell_type": "markdown",
      "metadata": {
        "id": "oQ84C-2sW9eB"
      },
      "source": [
        "Setting upzip folder"
      ]
    },
    {
      "cell_type": "code",
      "execution_count": 4,
      "metadata": {
        "colab": {
          "base_uri": "https://localhost:8080/"
        },
        "id": "ttFAXJQ5OlPv",
        "outputId": "e1ef699f-c51c-433a-c947-550200c8059b"
      },
      "outputs": [],
      "source": [
        "FOLDER_PATH = r'data/kdd-cup-1999/'"
      ]
    },
    {
      "cell_type": "markdown",
      "metadata": {},
      "source": [
        "*If error occurs: please unzip the .zip file data first*"
      ]
    },
    {
      "cell_type": "markdown",
      "metadata": {
        "id": "w-mW-NwqXB0m"
      },
      "source": [
        "Checking"
      ]
    },
    {
      "cell_type": "code",
      "execution_count": 5,
      "metadata": {
        "colab": {
          "base_uri": "https://localhost:8080/"
        },
        "id": "egHzHEIJEb0v",
        "outputId": "81b469ab-5e1c-4126-c3f2-a2b43ae9f82d"
      },
      "outputs": [
        {
          "data": {
            "text/plain": [
              "['corrected', 'corrected.gz', 'kddcup.data']"
            ]
          },
          "execution_count": 5,
          "metadata": {},
          "output_type": "execute_result"
        }
      ],
      "source": [
        "import os \n",
        "os.listdir(FOLDER_PATH)[:3]"
      ]
    },
    {
      "cell_type": "markdown",
      "metadata": {
        "id": "iJ2v8h2CV7BI"
      },
      "source": [
        "## Necessary Libraries"
      ]
    },
    {
      "cell_type": "code",
      "execution_count": 6,
      "metadata": {
        "id": "UDG-QlWHV5EP"
      },
      "outputs": [],
      "source": [
        "import numpy as np\n",
        "\n",
        "import gc; gc.enable() #Enable garbage for the notebook\n",
        "\n",
        "import pandas as pd\n",
        "import matplotlib.pyplot as plt\n",
        "import seaborn as sns\n",
        "import time\n",
        "\n",
        "\n",
        "import warnings\n",
        "\n",
        "from sklearn.preprocessing import LabelEncoder, StandardScaler, OneHotEncoder\n",
        "from sklearn.compose import ColumnTransformer\n",
        "from sklearn.model_selection import train_test_split\n",
        "\n",
        "\n",
        "\n",
        "\n",
        "warnings.filterwarnings(\"ignore\")"
      ]
    },
    {
      "cell_type": "markdown",
      "metadata": {
        "id": "3cwi7jykWmeI"
      },
      "source": [
        "## Exploratory Data Analysis"
      ]
    },
    {
      "cell_type": "markdown",
      "metadata": {
        "id": "WneF-gF428H2"
      },
      "source": [
        "### Data Loading"
      ]
    },
    {
      "cell_type": "code",
      "execution_count": 7,
      "metadata": {
        "id": "mDPXIgjk274y"
      },
      "outputs": [],
      "source": [
        "def load_data():\n",
        "    \n",
        "    f=open(FOLDER_PATH +\"kddcup.names\",'r')\n",
        "    data=f.readlines()[1:]\n",
        "\n",
        "    column_names=[]\n",
        "    for line in data:\n",
        "        column_names.append(line.split(':')[0])\n",
        "\n",
        "    column_names.append('target')\n",
        "    f.close()\n",
        "\n",
        "    f=open(FOLDER_PATH + \"training_attack_types\",\"r\")\n",
        "    data=f.readlines()[:-1]\n",
        "\n",
        "    attack_type_mapping={'normal':'normal'}\n",
        "    for line in data:\n",
        "        k,v=line.split()\n",
        "        attack_type_mapping[k]=v\n",
        "\n",
        "    f.close()\n",
        "\n",
        "    temp=pd.read_csv(FOLDER_PATH + \"kddcup.data_10_percent.gz\",names=column_names)\n",
        "    temp['Attack Type']=temp.target.apply(lambda r: attack_type_mapping[r[:-1]])\n",
        "    \n",
        "    return temp"
      ]
    },
    {
      "cell_type": "code",
      "execution_count": 8,
      "metadata": {
        "colab": {
          "base_uri": "https://localhost:8080/",
          "height": 0
        },
        "id": "PjS7YRN65_Uf",
        "outputId": "a94b3c72-ed09-4901-f292-5e51a577a1b6"
      },
      "outputs": [
        {
          "data": {
            "text/html": [
              "<div>\n",
              "<style scoped>\n",
              "    .dataframe tbody tr th:only-of-type {\n",
              "        vertical-align: middle;\n",
              "    }\n",
              "\n",
              "    .dataframe tbody tr th {\n",
              "        vertical-align: top;\n",
              "    }\n",
              "\n",
              "    .dataframe thead th {\n",
              "        text-align: right;\n",
              "    }\n",
              "</style>\n",
              "<table border=\"1\" class=\"dataframe\">\n",
              "  <thead>\n",
              "    <tr style=\"text-align: right;\">\n",
              "      <th></th>\n",
              "      <th>duration</th>\n",
              "      <th>protocol_type</th>\n",
              "      <th>service</th>\n",
              "      <th>flag</th>\n",
              "      <th>src_bytes</th>\n",
              "      <th>dst_bytes</th>\n",
              "      <th>land</th>\n",
              "      <th>wrong_fragment</th>\n",
              "      <th>urgent</th>\n",
              "      <th>hot</th>\n",
              "      <th>...</th>\n",
              "      <th>dst_host_same_srv_rate</th>\n",
              "      <th>dst_host_diff_srv_rate</th>\n",
              "      <th>dst_host_same_src_port_rate</th>\n",
              "      <th>dst_host_srv_diff_host_rate</th>\n",
              "      <th>dst_host_serror_rate</th>\n",
              "      <th>dst_host_srv_serror_rate</th>\n",
              "      <th>dst_host_rerror_rate</th>\n",
              "      <th>dst_host_srv_rerror_rate</th>\n",
              "      <th>target</th>\n",
              "      <th>Attack Type</th>\n",
              "    </tr>\n",
              "  </thead>\n",
              "  <tbody>\n",
              "    <tr>\n",
              "      <th>0</th>\n",
              "      <td>0</td>\n",
              "      <td>tcp</td>\n",
              "      <td>http</td>\n",
              "      <td>SF</td>\n",
              "      <td>181</td>\n",
              "      <td>5450</td>\n",
              "      <td>0</td>\n",
              "      <td>0</td>\n",
              "      <td>0</td>\n",
              "      <td>0</td>\n",
              "      <td>...</td>\n",
              "      <td>1.0</td>\n",
              "      <td>0.0</td>\n",
              "      <td>0.11</td>\n",
              "      <td>0.0</td>\n",
              "      <td>0.0</td>\n",
              "      <td>0.0</td>\n",
              "      <td>0.0</td>\n",
              "      <td>0.0</td>\n",
              "      <td>normal.</td>\n",
              "      <td>normal</td>\n",
              "    </tr>\n",
              "    <tr>\n",
              "      <th>1</th>\n",
              "      <td>0</td>\n",
              "      <td>tcp</td>\n",
              "      <td>http</td>\n",
              "      <td>SF</td>\n",
              "      <td>239</td>\n",
              "      <td>486</td>\n",
              "      <td>0</td>\n",
              "      <td>0</td>\n",
              "      <td>0</td>\n",
              "      <td>0</td>\n",
              "      <td>...</td>\n",
              "      <td>1.0</td>\n",
              "      <td>0.0</td>\n",
              "      <td>0.05</td>\n",
              "      <td>0.0</td>\n",
              "      <td>0.0</td>\n",
              "      <td>0.0</td>\n",
              "      <td>0.0</td>\n",
              "      <td>0.0</td>\n",
              "      <td>normal.</td>\n",
              "      <td>normal</td>\n",
              "    </tr>\n",
              "    <tr>\n",
              "      <th>2</th>\n",
              "      <td>0</td>\n",
              "      <td>tcp</td>\n",
              "      <td>http</td>\n",
              "      <td>SF</td>\n",
              "      <td>235</td>\n",
              "      <td>1337</td>\n",
              "      <td>0</td>\n",
              "      <td>0</td>\n",
              "      <td>0</td>\n",
              "      <td>0</td>\n",
              "      <td>...</td>\n",
              "      <td>1.0</td>\n",
              "      <td>0.0</td>\n",
              "      <td>0.03</td>\n",
              "      <td>0.0</td>\n",
              "      <td>0.0</td>\n",
              "      <td>0.0</td>\n",
              "      <td>0.0</td>\n",
              "      <td>0.0</td>\n",
              "      <td>normal.</td>\n",
              "      <td>normal</td>\n",
              "    </tr>\n",
              "    <tr>\n",
              "      <th>3</th>\n",
              "      <td>0</td>\n",
              "      <td>tcp</td>\n",
              "      <td>http</td>\n",
              "      <td>SF</td>\n",
              "      <td>219</td>\n",
              "      <td>1337</td>\n",
              "      <td>0</td>\n",
              "      <td>0</td>\n",
              "      <td>0</td>\n",
              "      <td>0</td>\n",
              "      <td>...</td>\n",
              "      <td>1.0</td>\n",
              "      <td>0.0</td>\n",
              "      <td>0.03</td>\n",
              "      <td>0.0</td>\n",
              "      <td>0.0</td>\n",
              "      <td>0.0</td>\n",
              "      <td>0.0</td>\n",
              "      <td>0.0</td>\n",
              "      <td>normal.</td>\n",
              "      <td>normal</td>\n",
              "    </tr>\n",
              "    <tr>\n",
              "      <th>4</th>\n",
              "      <td>0</td>\n",
              "      <td>tcp</td>\n",
              "      <td>http</td>\n",
              "      <td>SF</td>\n",
              "      <td>217</td>\n",
              "      <td>2032</td>\n",
              "      <td>0</td>\n",
              "      <td>0</td>\n",
              "      <td>0</td>\n",
              "      <td>0</td>\n",
              "      <td>...</td>\n",
              "      <td>1.0</td>\n",
              "      <td>0.0</td>\n",
              "      <td>0.02</td>\n",
              "      <td>0.0</td>\n",
              "      <td>0.0</td>\n",
              "      <td>0.0</td>\n",
              "      <td>0.0</td>\n",
              "      <td>0.0</td>\n",
              "      <td>normal.</td>\n",
              "      <td>normal</td>\n",
              "    </tr>\n",
              "  </tbody>\n",
              "</table>\n",
              "<p>5 rows × 43 columns</p>\n",
              "</div>"
            ],
            "text/plain": [
              "   duration protocol_type service flag  src_bytes  dst_bytes  land  \\\n",
              "0         0           tcp    http   SF        181       5450     0   \n",
              "1         0           tcp    http   SF        239        486     0   \n",
              "2         0           tcp    http   SF        235       1337     0   \n",
              "3         0           tcp    http   SF        219       1337     0   \n",
              "4         0           tcp    http   SF        217       2032     0   \n",
              "\n",
              "   wrong_fragment  urgent  hot  ...  dst_host_same_srv_rate  \\\n",
              "0               0       0    0  ...                     1.0   \n",
              "1               0       0    0  ...                     1.0   \n",
              "2               0       0    0  ...                     1.0   \n",
              "3               0       0    0  ...                     1.0   \n",
              "4               0       0    0  ...                     1.0   \n",
              "\n",
              "   dst_host_diff_srv_rate  dst_host_same_src_port_rate  \\\n",
              "0                     0.0                         0.11   \n",
              "1                     0.0                         0.05   \n",
              "2                     0.0                         0.03   \n",
              "3                     0.0                         0.03   \n",
              "4                     0.0                         0.02   \n",
              "\n",
              "   dst_host_srv_diff_host_rate  dst_host_serror_rate  \\\n",
              "0                          0.0                   0.0   \n",
              "1                          0.0                   0.0   \n",
              "2                          0.0                   0.0   \n",
              "3                          0.0                   0.0   \n",
              "4                          0.0                   0.0   \n",
              "\n",
              "   dst_host_srv_serror_rate  dst_host_rerror_rate  dst_host_srv_rerror_rate  \\\n",
              "0                       0.0                   0.0                       0.0   \n",
              "1                       0.0                   0.0                       0.0   \n",
              "2                       0.0                   0.0                       0.0   \n",
              "3                       0.0                   0.0                       0.0   \n",
              "4                       0.0                   0.0                       0.0   \n",
              "\n",
              "    target  Attack Type  \n",
              "0  normal.       normal  \n",
              "1  normal.       normal  \n",
              "2  normal.       normal  \n",
              "3  normal.       normal  \n",
              "4  normal.       normal  \n",
              "\n",
              "[5 rows x 43 columns]"
            ]
          },
          "execution_count": 8,
          "metadata": {},
          "output_type": "execute_result"
        }
      ],
      "source": [
        "df = load_data()\n",
        "df.head()"
      ]
    },
    {
      "cell_type": "markdown",
      "metadata": {
        "id": "c88qfOw5Z-0g"
      },
      "source": [
        "### Data Understanding & Visualization"
      ]
    },
    {
      "cell_type": "code",
      "execution_count": 7,
      "metadata": {
        "colab": {
          "base_uri": "https://localhost:8080/",
          "height": 0
        },
        "id": "ABIB5MplaADF",
        "outputId": "ce2bf1a7-99d5-4f7d-fc47-4d6bcf4283e5"
      },
      "outputs": [
        {
          "data": {
            "text/html": [
              "\n",
              "  <div id=\"df-036d5dc4-35df-46dd-9859-ae864cba3892\">\n",
              "    <div class=\"colab-df-container\">\n",
              "      <div>\n",
              "<style scoped>\n",
              "    .dataframe tbody tr th:only-of-type {\n",
              "        vertical-align: middle;\n",
              "    }\n",
              "\n",
              "    .dataframe tbody tr th {\n",
              "        vertical-align: top;\n",
              "    }\n",
              "\n",
              "    .dataframe thead th {\n",
              "        text-align: right;\n",
              "    }\n",
              "</style>\n",
              "<table border=\"1\" class=\"dataframe\">\n",
              "  <thead>\n",
              "    <tr style=\"text-align: right;\">\n",
              "      <th></th>\n",
              "      <th>duration</th>\n",
              "      <th>protocol_type</th>\n",
              "      <th>service</th>\n",
              "      <th>flag</th>\n",
              "      <th>src_bytes</th>\n",
              "      <th>dst_bytes</th>\n",
              "      <th>land</th>\n",
              "      <th>wrong_fragment</th>\n",
              "      <th>urgent</th>\n",
              "      <th>hot</th>\n",
              "      <th>...</th>\n",
              "      <th>dst_host_same_srv_rate</th>\n",
              "      <th>dst_host_diff_srv_rate</th>\n",
              "      <th>dst_host_same_src_port_rate</th>\n",
              "      <th>dst_host_srv_diff_host_rate</th>\n",
              "      <th>dst_host_serror_rate</th>\n",
              "      <th>dst_host_srv_serror_rate</th>\n",
              "      <th>dst_host_rerror_rate</th>\n",
              "      <th>dst_host_srv_rerror_rate</th>\n",
              "      <th>target</th>\n",
              "      <th>Attack Type</th>\n",
              "    </tr>\n",
              "  </thead>\n",
              "  <tbody>\n",
              "    <tr>\n",
              "      <th>0</th>\n",
              "      <td>0</td>\n",
              "      <td>tcp</td>\n",
              "      <td>http</td>\n",
              "      <td>SF</td>\n",
              "      <td>181</td>\n",
              "      <td>5450</td>\n",
              "      <td>0</td>\n",
              "      <td>0</td>\n",
              "      <td>0</td>\n",
              "      <td>0</td>\n",
              "      <td>...</td>\n",
              "      <td>1.0</td>\n",
              "      <td>0.0</td>\n",
              "      <td>0.11</td>\n",
              "      <td>0.0</td>\n",
              "      <td>0.0</td>\n",
              "      <td>0.0</td>\n",
              "      <td>0.0</td>\n",
              "      <td>0.0</td>\n",
              "      <td>normal.</td>\n",
              "      <td>normal</td>\n",
              "    </tr>\n",
              "    <tr>\n",
              "      <th>1</th>\n",
              "      <td>0</td>\n",
              "      <td>tcp</td>\n",
              "      <td>http</td>\n",
              "      <td>SF</td>\n",
              "      <td>239</td>\n",
              "      <td>486</td>\n",
              "      <td>0</td>\n",
              "      <td>0</td>\n",
              "      <td>0</td>\n",
              "      <td>0</td>\n",
              "      <td>...</td>\n",
              "      <td>1.0</td>\n",
              "      <td>0.0</td>\n",
              "      <td>0.05</td>\n",
              "      <td>0.0</td>\n",
              "      <td>0.0</td>\n",
              "      <td>0.0</td>\n",
              "      <td>0.0</td>\n",
              "      <td>0.0</td>\n",
              "      <td>normal.</td>\n",
              "      <td>normal</td>\n",
              "    </tr>\n",
              "    <tr>\n",
              "      <th>2</th>\n",
              "      <td>0</td>\n",
              "      <td>tcp</td>\n",
              "      <td>http</td>\n",
              "      <td>SF</td>\n",
              "      <td>235</td>\n",
              "      <td>1337</td>\n",
              "      <td>0</td>\n",
              "      <td>0</td>\n",
              "      <td>0</td>\n",
              "      <td>0</td>\n",
              "      <td>...</td>\n",
              "      <td>1.0</td>\n",
              "      <td>0.0</td>\n",
              "      <td>0.03</td>\n",
              "      <td>0.0</td>\n",
              "      <td>0.0</td>\n",
              "      <td>0.0</td>\n",
              "      <td>0.0</td>\n",
              "      <td>0.0</td>\n",
              "      <td>normal.</td>\n",
              "      <td>normal</td>\n",
              "    </tr>\n",
              "  </tbody>\n",
              "</table>\n",
              "<p>3 rows × 43 columns</p>\n",
              "</div>\n",
              "      <button class=\"colab-df-convert\" onclick=\"convertToInteractive('df-036d5dc4-35df-46dd-9859-ae864cba3892')\"\n",
              "              title=\"Convert this dataframe to an interactive table.\"\n",
              "              style=\"display:none;\">\n",
              "        \n",
              "  <svg xmlns=\"http://www.w3.org/2000/svg\" height=\"24px\"viewBox=\"0 0 24 24\"\n",
              "       width=\"24px\">\n",
              "    <path d=\"M0 0h24v24H0V0z\" fill=\"none\"/>\n",
              "    <path d=\"M18.56 5.44l.94 2.06.94-2.06 2.06-.94-2.06-.94-.94-2.06-.94 2.06-2.06.94zm-11 1L8.5 8.5l.94-2.06 2.06-.94-2.06-.94L8.5 2.5l-.94 2.06-2.06.94zm10 10l.94 2.06.94-2.06 2.06-.94-2.06-.94-.94-2.06-.94 2.06-2.06.94z\"/><path d=\"M17.41 7.96l-1.37-1.37c-.4-.4-.92-.59-1.43-.59-.52 0-1.04.2-1.43.59L10.3 9.45l-7.72 7.72c-.78.78-.78 2.05 0 2.83L4 21.41c.39.39.9.59 1.41.59.51 0 1.02-.2 1.41-.59l7.78-7.78 2.81-2.81c.8-.78.8-2.07 0-2.86zM5.41 20L4 18.59l7.72-7.72 1.47 1.35L5.41 20z\"/>\n",
              "  </svg>\n",
              "      </button>\n",
              "      \n",
              "  <style>\n",
              "    .colab-df-container {\n",
              "      display:flex;\n",
              "      flex-wrap:wrap;\n",
              "      gap: 12px;\n",
              "    }\n",
              "\n",
              "    .colab-df-convert {\n",
              "      background-color: #E8F0FE;\n",
              "      border: none;\n",
              "      border-radius: 50%;\n",
              "      cursor: pointer;\n",
              "      display: none;\n",
              "      fill: #1967D2;\n",
              "      height: 32px;\n",
              "      padding: 0 0 0 0;\n",
              "      width: 32px;\n",
              "    }\n",
              "\n",
              "    .colab-df-convert:hover {\n",
              "      background-color: #E2EBFA;\n",
              "      box-shadow: 0px 1px 2px rgba(60, 64, 67, 0.3), 0px 1px 3px 1px rgba(60, 64, 67, 0.15);\n",
              "      fill: #174EA6;\n",
              "    }\n",
              "\n",
              "    [theme=dark] .colab-df-convert {\n",
              "      background-color: #3B4455;\n",
              "      fill: #D2E3FC;\n",
              "    }\n",
              "\n",
              "    [theme=dark] .colab-df-convert:hover {\n",
              "      background-color: #434B5C;\n",
              "      box-shadow: 0px 1px 3px 1px rgba(0, 0, 0, 0.15);\n",
              "      filter: drop-shadow(0px 1px 2px rgba(0, 0, 0, 0.3));\n",
              "      fill: #FFFFFF;\n",
              "    }\n",
              "  </style>\n",
              "\n",
              "      <script>\n",
              "        const buttonEl =\n",
              "          document.querySelector('#df-036d5dc4-35df-46dd-9859-ae864cba3892 button.colab-df-convert');\n",
              "        buttonEl.style.display =\n",
              "          google.colab.kernel.accessAllowed ? 'block' : 'none';\n",
              "\n",
              "        async function convertToInteractive(key) {\n",
              "          const element = document.querySelector('#df-036d5dc4-35df-46dd-9859-ae864cba3892');\n",
              "          const dataTable =\n",
              "            await google.colab.kernel.invokeFunction('convertToInteractive',\n",
              "                                                     [key], {});\n",
              "          if (!dataTable) return;\n",
              "\n",
              "          const docLinkHtml = 'Like what you see? Visit the ' +\n",
              "            '<a target=\"_blank\" href=https://colab.research.google.com/notebooks/data_table.ipynb>data table notebook</a>'\n",
              "            + ' to learn more about interactive tables.';\n",
              "          element.innerHTML = '';\n",
              "          dataTable['output_type'] = 'display_data';\n",
              "          await google.colab.output.renderOutput(dataTable, element);\n",
              "          const docLink = document.createElement('div');\n",
              "          docLink.innerHTML = docLinkHtml;\n",
              "          element.appendChild(docLink);\n",
              "        }\n",
              "      </script>\n",
              "    </div>\n",
              "  </div>\n",
              "  "
            ],
            "text/plain": [
              "   duration protocol_type service flag  src_bytes  dst_bytes  land  \\\n",
              "0         0           tcp    http   SF        181       5450     0   \n",
              "1         0           tcp    http   SF        239        486     0   \n",
              "2         0           tcp    http   SF        235       1337     0   \n",
              "\n",
              "   wrong_fragment  urgent  hot  ...  dst_host_same_srv_rate  \\\n",
              "0               0       0    0  ...                     1.0   \n",
              "1               0       0    0  ...                     1.0   \n",
              "2               0       0    0  ...                     1.0   \n",
              "\n",
              "   dst_host_diff_srv_rate  dst_host_same_src_port_rate  \\\n",
              "0                     0.0                         0.11   \n",
              "1                     0.0                         0.05   \n",
              "2                     0.0                         0.03   \n",
              "\n",
              "   dst_host_srv_diff_host_rate  dst_host_serror_rate  \\\n",
              "0                          0.0                   0.0   \n",
              "1                          0.0                   0.0   \n",
              "2                          0.0                   0.0   \n",
              "\n",
              "   dst_host_srv_serror_rate  dst_host_rerror_rate  dst_host_srv_rerror_rate  \\\n",
              "0                       0.0                   0.0                       0.0   \n",
              "1                       0.0                   0.0                       0.0   \n",
              "2                       0.0                   0.0                       0.0   \n",
              "\n",
              "    target  Attack Type  \n",
              "0  normal.       normal  \n",
              "1  normal.       normal  \n",
              "2  normal.       normal  \n",
              "\n",
              "[3 rows x 43 columns]"
            ]
          },
          "execution_count": 7,
          "metadata": {},
          "output_type": "execute_result"
        }
      ],
      "source": [
        "# How the data looks\n",
        "df.head(3)"
      ]
    },
    {
      "cell_type": "code",
      "execution_count": 8,
      "metadata": {
        "colab": {
          "base_uri": "https://localhost:8080/"
        },
        "id": "1xETcmh0fs5q",
        "outputId": "0cd0d1d3-647e-47d1-a53c-65853fcfffc3"
      },
      "outputs": [
        {
          "data": {
            "text/plain": [
              "duration                             0\n",
              "protocol_type                      tcp\n",
              "service                           http\n",
              "flag                                SF\n",
              "src_bytes                          181\n",
              "dst_bytes                         5450\n",
              "land                                 0\n",
              "wrong_fragment                       0\n",
              "urgent                               0\n",
              "hot                                  0\n",
              "num_failed_logins                    0\n",
              "logged_in                            1\n",
              "num_compromised                      0\n",
              "root_shell                           0\n",
              "su_attempted                         0\n",
              "num_root                             0\n",
              "num_file_creations                   0\n",
              "num_shells                           0\n",
              "num_access_files                     0\n",
              "num_outbound_cmds                    0\n",
              "is_host_login                        0\n",
              "is_guest_login                       0\n",
              "count                                8\n",
              "srv_count                            8\n",
              "serror_rate                        0.0\n",
              "srv_serror_rate                    0.0\n",
              "rerror_rate                        0.0\n",
              "srv_rerror_rate                    0.0\n",
              "same_srv_rate                      1.0\n",
              "diff_srv_rate                      0.0\n",
              "srv_diff_host_rate                 0.0\n",
              "dst_host_count                       9\n",
              "dst_host_srv_count                   9\n",
              "dst_host_same_srv_rate             1.0\n",
              "dst_host_diff_srv_rate             0.0\n",
              "dst_host_same_src_port_rate       0.11\n",
              "dst_host_srv_diff_host_rate        0.0\n",
              "dst_host_serror_rate               0.0\n",
              "dst_host_srv_serror_rate           0.0\n",
              "dst_host_rerror_rate               0.0\n",
              "dst_host_srv_rerror_rate           0.0\n",
              "target                         normal.\n",
              "Attack Type                     normal\n",
              "Name: 0, dtype: object"
            ]
          },
          "execution_count": 8,
          "metadata": {},
          "output_type": "execute_result"
        }
      ],
      "source": [
        "# One instance\n",
        "df.iloc[0, :]"
      ]
    },
    {
      "cell_type": "code",
      "execution_count": 9,
      "metadata": {
        "colab": {
          "base_uri": "https://localhost:8080/"
        },
        "id": "5x6qc__WaJoJ",
        "outputId": "51bbfe89-f374-413a-818c-71d9d3289d54"
      },
      "outputs": [
        {
          "name": "stdout",
          "output_type": "stream",
          "text": [
            "<class 'pandas.core.frame.DataFrame'>\n",
            "RangeIndex: 494021 entries, 0 to 494020\n",
            "Data columns (total 43 columns):\n",
            " #   Column                       Non-Null Count   Dtype  \n",
            "---  ------                       --------------   -----  \n",
            " 0   duration                     494021 non-null  int64  \n",
            " 1   protocol_type                494021 non-null  object \n",
            " 2   service                      494021 non-null  object \n",
            " 3   flag                         494021 non-null  object \n",
            " 4   src_bytes                    494021 non-null  int64  \n",
            " 5   dst_bytes                    494021 non-null  int64  \n",
            " 6   land                         494021 non-null  int64  \n",
            " 7   wrong_fragment               494021 non-null  int64  \n",
            " 8   urgent                       494021 non-null  int64  \n",
            " 9   hot                          494021 non-null  int64  \n",
            " 10  num_failed_logins            494021 non-null  int64  \n",
            " 11  logged_in                    494021 non-null  int64  \n",
            " 12  num_compromised              494021 non-null  int64  \n",
            " 13  root_shell                   494021 non-null  int64  \n",
            " 14  su_attempted                 494021 non-null  int64  \n",
            " 15  num_root                     494021 non-null  int64  \n",
            " 16  num_file_creations           494021 non-null  int64  \n",
            " 17  num_shells                   494021 non-null  int64  \n",
            " 18  num_access_files             494021 non-null  int64  \n",
            " 19  num_outbound_cmds            494021 non-null  int64  \n",
            " 20  is_host_login                494021 non-null  int64  \n",
            " 21  is_guest_login               494021 non-null  int64  \n",
            " 22  count                        494021 non-null  int64  \n",
            " 23  srv_count                    494021 non-null  int64  \n",
            " 24  serror_rate                  494021 non-null  float64\n",
            " 25  srv_serror_rate              494021 non-null  float64\n",
            " 26  rerror_rate                  494021 non-null  float64\n",
            " 27  srv_rerror_rate              494021 non-null  float64\n",
            " 28  same_srv_rate                494021 non-null  float64\n",
            " 29  diff_srv_rate                494021 non-null  float64\n",
            " 30  srv_diff_host_rate           494021 non-null  float64\n",
            " 31  dst_host_count               494021 non-null  int64  \n",
            " 32  dst_host_srv_count           494021 non-null  int64  \n",
            " 33  dst_host_same_srv_rate       494021 non-null  float64\n",
            " 34  dst_host_diff_srv_rate       494021 non-null  float64\n",
            " 35  dst_host_same_src_port_rate  494021 non-null  float64\n",
            " 36  dst_host_srv_diff_host_rate  494021 non-null  float64\n",
            " 37  dst_host_serror_rate         494021 non-null  float64\n",
            " 38  dst_host_srv_serror_rate     494021 non-null  float64\n",
            " 39  dst_host_rerror_rate         494021 non-null  float64\n",
            " 40  dst_host_srv_rerror_rate     494021 non-null  float64\n",
            " 41  target                       494021 non-null  object \n",
            " 42  Attack Type                  494021 non-null  object \n",
            "dtypes: float64(15), int64(23), object(5)\n",
            "memory usage: 162.1+ MB\n"
          ]
        }
      ],
      "source": [
        "df.info()"
      ]
    },
    {
      "cell_type": "code",
      "execution_count": 10,
      "metadata": {
        "colab": {
          "base_uri": "https://localhost:8080/",
          "height": 0
        },
        "id": "shZF72HFaNiU",
        "outputId": "733e3df8-d903-47a2-b918-2abb0a113fb7"
      },
      "outputs": [
        {
          "data": {
            "text/html": [
              "\n",
              "  <div id=\"df-7bcab28b-9e46-465d-b978-23fde1b54f17\">\n",
              "    <div class=\"colab-df-container\">\n",
              "      <div>\n",
              "<style scoped>\n",
              "    .dataframe tbody tr th:only-of-type {\n",
              "        vertical-align: middle;\n",
              "    }\n",
              "\n",
              "    .dataframe tbody tr th {\n",
              "        vertical-align: top;\n",
              "    }\n",
              "\n",
              "    .dataframe thead th {\n",
              "        text-align: right;\n",
              "    }\n",
              "</style>\n",
              "<table border=\"1\" class=\"dataframe\">\n",
              "  <thead>\n",
              "    <tr style=\"text-align: right;\">\n",
              "      <th></th>\n",
              "      <th>duration</th>\n",
              "      <th>protocol_type</th>\n",
              "      <th>service</th>\n",
              "      <th>flag</th>\n",
              "      <th>src_bytes</th>\n",
              "      <th>dst_bytes</th>\n",
              "      <th>land</th>\n",
              "      <th>wrong_fragment</th>\n",
              "      <th>urgent</th>\n",
              "      <th>hot</th>\n",
              "      <th>...</th>\n",
              "      <th>dst_host_same_srv_rate</th>\n",
              "      <th>dst_host_diff_srv_rate</th>\n",
              "      <th>dst_host_same_src_port_rate</th>\n",
              "      <th>dst_host_srv_diff_host_rate</th>\n",
              "      <th>dst_host_serror_rate</th>\n",
              "      <th>dst_host_srv_serror_rate</th>\n",
              "      <th>dst_host_rerror_rate</th>\n",
              "      <th>dst_host_srv_rerror_rate</th>\n",
              "      <th>target</th>\n",
              "      <th>Attack Type</th>\n",
              "    </tr>\n",
              "  </thead>\n",
              "  <tbody>\n",
              "    <tr>\n",
              "      <th>count</th>\n",
              "      <td>494021.000000</td>\n",
              "      <td>494021</td>\n",
              "      <td>494021</td>\n",
              "      <td>494021</td>\n",
              "      <td>4.940210e+05</td>\n",
              "      <td>4.940210e+05</td>\n",
              "      <td>494021.000000</td>\n",
              "      <td>494021.000000</td>\n",
              "      <td>494021.000000</td>\n",
              "      <td>494021.000000</td>\n",
              "      <td>...</td>\n",
              "      <td>494021.000000</td>\n",
              "      <td>494021.000000</td>\n",
              "      <td>494021.000000</td>\n",
              "      <td>494021.000000</td>\n",
              "      <td>494021.000000</td>\n",
              "      <td>494021.000000</td>\n",
              "      <td>494021.000000</td>\n",
              "      <td>494021.000000</td>\n",
              "      <td>494021</td>\n",
              "      <td>494021</td>\n",
              "    </tr>\n",
              "    <tr>\n",
              "      <th>unique</th>\n",
              "      <td>NaN</td>\n",
              "      <td>3</td>\n",
              "      <td>66</td>\n",
              "      <td>11</td>\n",
              "      <td>NaN</td>\n",
              "      <td>NaN</td>\n",
              "      <td>NaN</td>\n",
              "      <td>NaN</td>\n",
              "      <td>NaN</td>\n",
              "      <td>NaN</td>\n",
              "      <td>...</td>\n",
              "      <td>NaN</td>\n",
              "      <td>NaN</td>\n",
              "      <td>NaN</td>\n",
              "      <td>NaN</td>\n",
              "      <td>NaN</td>\n",
              "      <td>NaN</td>\n",
              "      <td>NaN</td>\n",
              "      <td>NaN</td>\n",
              "      <td>23</td>\n",
              "      <td>5</td>\n",
              "    </tr>\n",
              "    <tr>\n",
              "      <th>top</th>\n",
              "      <td>NaN</td>\n",
              "      <td>icmp</td>\n",
              "      <td>ecr_i</td>\n",
              "      <td>SF</td>\n",
              "      <td>NaN</td>\n",
              "      <td>NaN</td>\n",
              "      <td>NaN</td>\n",
              "      <td>NaN</td>\n",
              "      <td>NaN</td>\n",
              "      <td>NaN</td>\n",
              "      <td>...</td>\n",
              "      <td>NaN</td>\n",
              "      <td>NaN</td>\n",
              "      <td>NaN</td>\n",
              "      <td>NaN</td>\n",
              "      <td>NaN</td>\n",
              "      <td>NaN</td>\n",
              "      <td>NaN</td>\n",
              "      <td>NaN</td>\n",
              "      <td>smurf.</td>\n",
              "      <td>dos</td>\n",
              "    </tr>\n",
              "    <tr>\n",
              "      <th>freq</th>\n",
              "      <td>NaN</td>\n",
              "      <td>283602</td>\n",
              "      <td>281400</td>\n",
              "      <td>378440</td>\n",
              "      <td>NaN</td>\n",
              "      <td>NaN</td>\n",
              "      <td>NaN</td>\n",
              "      <td>NaN</td>\n",
              "      <td>NaN</td>\n",
              "      <td>NaN</td>\n",
              "      <td>...</td>\n",
              "      <td>NaN</td>\n",
              "      <td>NaN</td>\n",
              "      <td>NaN</td>\n",
              "      <td>NaN</td>\n",
              "      <td>NaN</td>\n",
              "      <td>NaN</td>\n",
              "      <td>NaN</td>\n",
              "      <td>NaN</td>\n",
              "      <td>280790</td>\n",
              "      <td>391458</td>\n",
              "    </tr>\n",
              "    <tr>\n",
              "      <th>mean</th>\n",
              "      <td>47.979302</td>\n",
              "      <td>NaN</td>\n",
              "      <td>NaN</td>\n",
              "      <td>NaN</td>\n",
              "      <td>3.025610e+03</td>\n",
              "      <td>8.685324e+02</td>\n",
              "      <td>0.000045</td>\n",
              "      <td>0.006433</td>\n",
              "      <td>0.000014</td>\n",
              "      <td>0.034519</td>\n",
              "      <td>...</td>\n",
              "      <td>0.753780</td>\n",
              "      <td>0.030906</td>\n",
              "      <td>0.601935</td>\n",
              "      <td>0.006684</td>\n",
              "      <td>0.176754</td>\n",
              "      <td>0.176443</td>\n",
              "      <td>0.058118</td>\n",
              "      <td>0.057412</td>\n",
              "      <td>NaN</td>\n",
              "      <td>NaN</td>\n",
              "    </tr>\n",
              "    <tr>\n",
              "      <th>std</th>\n",
              "      <td>707.746472</td>\n",
              "      <td>NaN</td>\n",
              "      <td>NaN</td>\n",
              "      <td>NaN</td>\n",
              "      <td>9.882181e+05</td>\n",
              "      <td>3.304000e+04</td>\n",
              "      <td>0.006673</td>\n",
              "      <td>0.134805</td>\n",
              "      <td>0.005510</td>\n",
              "      <td>0.782103</td>\n",
              "      <td>...</td>\n",
              "      <td>0.410781</td>\n",
              "      <td>0.109259</td>\n",
              "      <td>0.481309</td>\n",
              "      <td>0.042133</td>\n",
              "      <td>0.380593</td>\n",
              "      <td>0.380919</td>\n",
              "      <td>0.230590</td>\n",
              "      <td>0.230140</td>\n",
              "      <td>NaN</td>\n",
              "      <td>NaN</td>\n",
              "    </tr>\n",
              "    <tr>\n",
              "      <th>min</th>\n",
              "      <td>0.000000</td>\n",
              "      <td>NaN</td>\n",
              "      <td>NaN</td>\n",
              "      <td>NaN</td>\n",
              "      <td>0.000000e+00</td>\n",
              "      <td>0.000000e+00</td>\n",
              "      <td>0.000000</td>\n",
              "      <td>0.000000</td>\n",
              "      <td>0.000000</td>\n",
              "      <td>0.000000</td>\n",
              "      <td>...</td>\n",
              "      <td>0.000000</td>\n",
              "      <td>0.000000</td>\n",
              "      <td>0.000000</td>\n",
              "      <td>0.000000</td>\n",
              "      <td>0.000000</td>\n",
              "      <td>0.000000</td>\n",
              "      <td>0.000000</td>\n",
              "      <td>0.000000</td>\n",
              "      <td>NaN</td>\n",
              "      <td>NaN</td>\n",
              "    </tr>\n",
              "    <tr>\n",
              "      <th>25%</th>\n",
              "      <td>0.000000</td>\n",
              "      <td>NaN</td>\n",
              "      <td>NaN</td>\n",
              "      <td>NaN</td>\n",
              "      <td>4.500000e+01</td>\n",
              "      <td>0.000000e+00</td>\n",
              "      <td>0.000000</td>\n",
              "      <td>0.000000</td>\n",
              "      <td>0.000000</td>\n",
              "      <td>0.000000</td>\n",
              "      <td>...</td>\n",
              "      <td>0.410000</td>\n",
              "      <td>0.000000</td>\n",
              "      <td>0.000000</td>\n",
              "      <td>0.000000</td>\n",
              "      <td>0.000000</td>\n",
              "      <td>0.000000</td>\n",
              "      <td>0.000000</td>\n",
              "      <td>0.000000</td>\n",
              "      <td>NaN</td>\n",
              "      <td>NaN</td>\n",
              "    </tr>\n",
              "    <tr>\n",
              "      <th>50%</th>\n",
              "      <td>0.000000</td>\n",
              "      <td>NaN</td>\n",
              "      <td>NaN</td>\n",
              "      <td>NaN</td>\n",
              "      <td>5.200000e+02</td>\n",
              "      <td>0.000000e+00</td>\n",
              "      <td>0.000000</td>\n",
              "      <td>0.000000</td>\n",
              "      <td>0.000000</td>\n",
              "      <td>0.000000</td>\n",
              "      <td>...</td>\n",
              "      <td>1.000000</td>\n",
              "      <td>0.000000</td>\n",
              "      <td>1.000000</td>\n",
              "      <td>0.000000</td>\n",
              "      <td>0.000000</td>\n",
              "      <td>0.000000</td>\n",
              "      <td>0.000000</td>\n",
              "      <td>0.000000</td>\n",
              "      <td>NaN</td>\n",
              "      <td>NaN</td>\n",
              "    </tr>\n",
              "    <tr>\n",
              "      <th>75%</th>\n",
              "      <td>0.000000</td>\n",
              "      <td>NaN</td>\n",
              "      <td>NaN</td>\n",
              "      <td>NaN</td>\n",
              "      <td>1.032000e+03</td>\n",
              "      <td>0.000000e+00</td>\n",
              "      <td>0.000000</td>\n",
              "      <td>0.000000</td>\n",
              "      <td>0.000000</td>\n",
              "      <td>0.000000</td>\n",
              "      <td>...</td>\n",
              "      <td>1.000000</td>\n",
              "      <td>0.040000</td>\n",
              "      <td>1.000000</td>\n",
              "      <td>0.000000</td>\n",
              "      <td>0.000000</td>\n",
              "      <td>0.000000</td>\n",
              "      <td>0.000000</td>\n",
              "      <td>0.000000</td>\n",
              "      <td>NaN</td>\n",
              "      <td>NaN</td>\n",
              "    </tr>\n",
              "    <tr>\n",
              "      <th>max</th>\n",
              "      <td>58329.000000</td>\n",
              "      <td>NaN</td>\n",
              "      <td>NaN</td>\n",
              "      <td>NaN</td>\n",
              "      <td>6.933756e+08</td>\n",
              "      <td>5.155468e+06</td>\n",
              "      <td>1.000000</td>\n",
              "      <td>3.000000</td>\n",
              "      <td>3.000000</td>\n",
              "      <td>30.000000</td>\n",
              "      <td>...</td>\n",
              "      <td>1.000000</td>\n",
              "      <td>1.000000</td>\n",
              "      <td>1.000000</td>\n",
              "      <td>1.000000</td>\n",
              "      <td>1.000000</td>\n",
              "      <td>1.000000</td>\n",
              "      <td>1.000000</td>\n",
              "      <td>1.000000</td>\n",
              "      <td>NaN</td>\n",
              "      <td>NaN</td>\n",
              "    </tr>\n",
              "  </tbody>\n",
              "</table>\n",
              "<p>11 rows × 43 columns</p>\n",
              "</div>\n",
              "      <button class=\"colab-df-convert\" onclick=\"convertToInteractive('df-7bcab28b-9e46-465d-b978-23fde1b54f17')\"\n",
              "              title=\"Convert this dataframe to an interactive table.\"\n",
              "              style=\"display:none;\">\n",
              "        \n",
              "  <svg xmlns=\"http://www.w3.org/2000/svg\" height=\"24px\"viewBox=\"0 0 24 24\"\n",
              "       width=\"24px\">\n",
              "    <path d=\"M0 0h24v24H0V0z\" fill=\"none\"/>\n",
              "    <path d=\"M18.56 5.44l.94 2.06.94-2.06 2.06-.94-2.06-.94-.94-2.06-.94 2.06-2.06.94zm-11 1L8.5 8.5l.94-2.06 2.06-.94-2.06-.94L8.5 2.5l-.94 2.06-2.06.94zm10 10l.94 2.06.94-2.06 2.06-.94-2.06-.94-.94-2.06-.94 2.06-2.06.94z\"/><path d=\"M17.41 7.96l-1.37-1.37c-.4-.4-.92-.59-1.43-.59-.52 0-1.04.2-1.43.59L10.3 9.45l-7.72 7.72c-.78.78-.78 2.05 0 2.83L4 21.41c.39.39.9.59 1.41.59.51 0 1.02-.2 1.41-.59l7.78-7.78 2.81-2.81c.8-.78.8-2.07 0-2.86zM5.41 20L4 18.59l7.72-7.72 1.47 1.35L5.41 20z\"/>\n",
              "  </svg>\n",
              "      </button>\n",
              "      \n",
              "  <style>\n",
              "    .colab-df-container {\n",
              "      display:flex;\n",
              "      flex-wrap:wrap;\n",
              "      gap: 12px;\n",
              "    }\n",
              "\n",
              "    .colab-df-convert {\n",
              "      background-color: #E8F0FE;\n",
              "      border: none;\n",
              "      border-radius: 50%;\n",
              "      cursor: pointer;\n",
              "      display: none;\n",
              "      fill: #1967D2;\n",
              "      height: 32px;\n",
              "      padding: 0 0 0 0;\n",
              "      width: 32px;\n",
              "    }\n",
              "\n",
              "    .colab-df-convert:hover {\n",
              "      background-color: #E2EBFA;\n",
              "      box-shadow: 0px 1px 2px rgba(60, 64, 67, 0.3), 0px 1px 3px 1px rgba(60, 64, 67, 0.15);\n",
              "      fill: #174EA6;\n",
              "    }\n",
              "\n",
              "    [theme=dark] .colab-df-convert {\n",
              "      background-color: #3B4455;\n",
              "      fill: #D2E3FC;\n",
              "    }\n",
              "\n",
              "    [theme=dark] .colab-df-convert:hover {\n",
              "      background-color: #434B5C;\n",
              "      box-shadow: 0px 1px 3px 1px rgba(0, 0, 0, 0.15);\n",
              "      filter: drop-shadow(0px 1px 2px rgba(0, 0, 0, 0.3));\n",
              "      fill: #FFFFFF;\n",
              "    }\n",
              "  </style>\n",
              "\n",
              "      <script>\n",
              "        const buttonEl =\n",
              "          document.querySelector('#df-7bcab28b-9e46-465d-b978-23fde1b54f17 button.colab-df-convert');\n",
              "        buttonEl.style.display =\n",
              "          google.colab.kernel.accessAllowed ? 'block' : 'none';\n",
              "\n",
              "        async function convertToInteractive(key) {\n",
              "          const element = document.querySelector('#df-7bcab28b-9e46-465d-b978-23fde1b54f17');\n",
              "          const dataTable =\n",
              "            await google.colab.kernel.invokeFunction('convertToInteractive',\n",
              "                                                     [key], {});\n",
              "          if (!dataTable) return;\n",
              "\n",
              "          const docLinkHtml = 'Like what you see? Visit the ' +\n",
              "            '<a target=\"_blank\" href=https://colab.research.google.com/notebooks/data_table.ipynb>data table notebook</a>'\n",
              "            + ' to learn more about interactive tables.';\n",
              "          element.innerHTML = '';\n",
              "          dataTable['output_type'] = 'display_data';\n",
              "          await google.colab.output.renderOutput(dataTable, element);\n",
              "          const docLink = document.createElement('div');\n",
              "          docLink.innerHTML = docLinkHtml;\n",
              "          element.appendChild(docLink);\n",
              "        }\n",
              "      </script>\n",
              "    </div>\n",
              "  </div>\n",
              "  "
            ],
            "text/plain": [
              "             duration protocol_type service    flag     src_bytes  \\\n",
              "count   494021.000000        494021  494021  494021  4.940210e+05   \n",
              "unique            NaN             3      66      11           NaN   \n",
              "top               NaN          icmp   ecr_i      SF           NaN   \n",
              "freq              NaN        283602  281400  378440           NaN   \n",
              "mean        47.979302           NaN     NaN     NaN  3.025610e+03   \n",
              "std        707.746472           NaN     NaN     NaN  9.882181e+05   \n",
              "min          0.000000           NaN     NaN     NaN  0.000000e+00   \n",
              "25%          0.000000           NaN     NaN     NaN  4.500000e+01   \n",
              "50%          0.000000           NaN     NaN     NaN  5.200000e+02   \n",
              "75%          0.000000           NaN     NaN     NaN  1.032000e+03   \n",
              "max      58329.000000           NaN     NaN     NaN  6.933756e+08   \n",
              "\n",
              "           dst_bytes           land  wrong_fragment         urgent  \\\n",
              "count   4.940210e+05  494021.000000   494021.000000  494021.000000   \n",
              "unique           NaN            NaN             NaN            NaN   \n",
              "top              NaN            NaN             NaN            NaN   \n",
              "freq             NaN            NaN             NaN            NaN   \n",
              "mean    8.685324e+02       0.000045        0.006433       0.000014   \n",
              "std     3.304000e+04       0.006673        0.134805       0.005510   \n",
              "min     0.000000e+00       0.000000        0.000000       0.000000   \n",
              "25%     0.000000e+00       0.000000        0.000000       0.000000   \n",
              "50%     0.000000e+00       0.000000        0.000000       0.000000   \n",
              "75%     0.000000e+00       0.000000        0.000000       0.000000   \n",
              "max     5.155468e+06       1.000000        3.000000       3.000000   \n",
              "\n",
              "                  hot  ...  dst_host_same_srv_rate  dst_host_diff_srv_rate  \\\n",
              "count   494021.000000  ...           494021.000000           494021.000000   \n",
              "unique            NaN  ...                     NaN                     NaN   \n",
              "top               NaN  ...                     NaN                     NaN   \n",
              "freq              NaN  ...                     NaN                     NaN   \n",
              "mean         0.034519  ...                0.753780                0.030906   \n",
              "std          0.782103  ...                0.410781                0.109259   \n",
              "min          0.000000  ...                0.000000                0.000000   \n",
              "25%          0.000000  ...                0.410000                0.000000   \n",
              "50%          0.000000  ...                1.000000                0.000000   \n",
              "75%          0.000000  ...                1.000000                0.040000   \n",
              "max         30.000000  ...                1.000000                1.000000   \n",
              "\n",
              "        dst_host_same_src_port_rate  dst_host_srv_diff_host_rate  \\\n",
              "count                 494021.000000                494021.000000   \n",
              "unique                          NaN                          NaN   \n",
              "top                             NaN                          NaN   \n",
              "freq                            NaN                          NaN   \n",
              "mean                       0.601935                     0.006684   \n",
              "std                        0.481309                     0.042133   \n",
              "min                        0.000000                     0.000000   \n",
              "25%                        0.000000                     0.000000   \n",
              "50%                        1.000000                     0.000000   \n",
              "75%                        1.000000                     0.000000   \n",
              "max                        1.000000                     1.000000   \n",
              "\n",
              "        dst_host_serror_rate  dst_host_srv_serror_rate  dst_host_rerror_rate  \\\n",
              "count          494021.000000             494021.000000         494021.000000   \n",
              "unique                   NaN                       NaN                   NaN   \n",
              "top                      NaN                       NaN                   NaN   \n",
              "freq                     NaN                       NaN                   NaN   \n",
              "mean                0.176754                  0.176443              0.058118   \n",
              "std                 0.380593                  0.380919              0.230590   \n",
              "min                 0.000000                  0.000000              0.000000   \n",
              "25%                 0.000000                  0.000000              0.000000   \n",
              "50%                 0.000000                  0.000000              0.000000   \n",
              "75%                 0.000000                  0.000000              0.000000   \n",
              "max                 1.000000                  1.000000              1.000000   \n",
              "\n",
              "        dst_host_srv_rerror_rate  target  Attack Type  \n",
              "count              494021.000000  494021       494021  \n",
              "unique                       NaN      23            5  \n",
              "top                          NaN  smurf.          dos  \n",
              "freq                         NaN  280790       391458  \n",
              "mean                    0.057412     NaN          NaN  \n",
              "std                     0.230140     NaN          NaN  \n",
              "min                     0.000000     NaN          NaN  \n",
              "25%                     0.000000     NaN          NaN  \n",
              "50%                     0.000000     NaN          NaN  \n",
              "75%                     0.000000     NaN          NaN  \n",
              "max                     1.000000     NaN          NaN  \n",
              "\n",
              "[11 rows x 43 columns]"
            ]
          },
          "execution_count": 10,
          "metadata": {},
          "output_type": "execute_result"
        }
      ],
      "source": [
        "df.describe(include= 'all')"
      ]
    },
    {
      "cell_type": "code",
      "execution_count": 11,
      "metadata": {
        "colab": {
          "base_uri": "https://localhost:8080/"
        },
        "id": "Qhz9aKX3aRBA",
        "outputId": "2462b1e8-5dd5-4958-9311-3fe8a4514930"
      },
      "outputs": [
        {
          "data": {
            "text/plain": [
              "(494021, 43)"
            ]
          },
          "execution_count": 11,
          "metadata": {},
          "output_type": "execute_result"
        }
      ],
      "source": [
        "#Size\n",
        "df.shape"
      ]
    },
    {
      "cell_type": "code",
      "execution_count": 12,
      "metadata": {
        "colab": {
          "base_uri": "https://localhost:8080/",
          "height": 0
        },
        "id": "cxHLIDEA7ELJ",
        "outputId": "e5e26270-5713-440f-83aa-2d8dd91bd630"
      },
      "outputs": [
        {
          "data": {
            "image/png": "[encoded data removed]",
            "text/plain": [
              "<Figure size 2160x1800 with 42 Axes>"
            ]
          },
          "metadata": {
            "needs_background": "light"
          },
          "output_type": "display_data"
        }
      ],
      "source": [
        "## Summary of the numberic attributes\n",
        "df.hist(bins = 50, figsize= (30,25))\n",
        "plt.show()"
      ]
    },
    {
      "cell_type": "code",
      "execution_count": 13,
      "metadata": {
        "colab": {
          "base_uri": "https://localhost:8080/"
        },
        "id": "mJZdJIsO81vv",
        "outputId": "d3dcea57-8a41-476f-b568-f83948232584"
      },
      "outputs": [
        {
          "name": "stdout",
          "output_type": "stream",
          "text": [
            "The category attributes: \n"
          ]
        },
        {
          "data": {
            "text/plain": [
              "['target', 'flag', 'protocol_type', 'service', 'Attack Type']"
            ]
          },
          "execution_count": 13,
          "metadata": {},
          "output_type": "execute_result"
        }
      ],
      "source": [
        "print(\"The category attributes: \")\n",
        "df_categories =  list(set(df.columns) - set(df._get_numeric_data().columns))\n",
        "df_categories"
      ]
    },
    {
      "cell_type": "code",
      "execution_count": 14,
      "metadata": {
        "colab": {
          "base_uri": "https://localhost:8080/",
          "height": 0
        },
        "id": "65UwozSf-TLE",
        "outputId": "1c8324d1-31c3-462a-dcf8-b3afbe3601f7"
      },
      "outputs": [
        {
          "data": {
            "image/png": "[encoded data removed]",
            "text/plain": [
              "<Figure size 2160x1800 with 4 Axes>"
            ]
          },
          "metadata": {
            "needs_background": "light"
          },
          "output_type": "display_data"
        }
      ],
      "source": [
        "## Plot categories attributes\n",
        "def plot_dist_categories(col, ax):\n",
        "    df[col].value_counts().plot(kind='bar',facecolor='g', ax=ax)\n",
        "    ax.set_xlabel('{}'.format(col), fontsize=18)\n",
        "    ax.set_title(\"{} on KDD Cup 1999\".format(col), fontsize= 18)\n",
        "    plt.xticks(rotation=45)\n",
        "    return ax\n",
        "\n",
        "f, ax = plt.subplots(2,2, figsize = (30,25))\n",
        "f.tight_layout(h_pad=15, w_pad=10, rect=[0, 0.08, 1, 0.93])\n",
        "\n",
        "k = 0\n",
        "for i in range(2):\n",
        "    for j in range(2):\n",
        "        plot_dist_categories(df_categories[k], ax[i][j])\n",
        "        k += 1\n",
        "\n",
        "plt.show()\n"
      ]
    },
    {
      "cell_type": "code",
      "execution_count": 15,
      "metadata": {
        "colab": {
          "base_uri": "https://localhost:8080/"
        },
        "id": "xCMMNAhBdUVz",
        "outputId": "fdc1742e-0baa-4e43-8c5c-67e6d33bce43"
      },
      "outputs": [
        {
          "data": {
            "text/plain": [
              "dos       391458\n",
              "normal     97278\n",
              "probe       4107\n",
              "r2l         1126\n",
              "u2r           52\n",
              "Name: Attack Type, dtype: int64"
            ]
          },
          "execution_count": 15,
          "metadata": {},
          "output_type": "execute_result"
        }
      ],
      "source": [
        "df['Attack Type'].value_counts()"
      ]
    },
    {
      "cell_type": "code",
      "execution_count": 16,
      "metadata": {
        "colab": {
          "base_uri": "https://localhost:8080/"
        },
        "id": "OKNQ-V47_gHp",
        "outputId": "3de09a35-5523-475c-c485-a68409b37c27"
      },
      "outputs": [
        {
          "data": {
            "text/plain": [
              "dos       0.792391\n",
              "normal    0.196911\n",
              "probe     0.008313\n",
              "r2l       0.002279\n",
              "u2r       0.000105\n",
              "Name: Attack Type, dtype: float64"
            ]
          },
          "execution_count": 16,
          "metadata": {},
          "output_type": "execute_result"
        }
      ],
      "source": [
        "df['Attack Type'].value_counts() / len(df)"
      ]
    },
    {
      "cell_type": "markdown",
      "metadata": {
        "id": "gLj07vDfAHod"
      },
      "source": [
        "### Some in-depth analysis"
      ]
    },
    {
      "cell_type": "markdown",
      "metadata": {
        "id": "VMDpP_j9BpML"
      },
      "source": [
        "#### Univariable Analysis"
      ]
    },
    {
      "cell_type": "code",
      "execution_count": 17,
      "metadata": {
        "colab": {
          "base_uri": "https://localhost:8080/",
          "height": 0
        },
        "id": "ttsawGD6BngQ",
        "outputId": "ac0d3ad5-cc19-4fb0-815f-1498b04b03a3"
      },
      "outputs": [
        {
          "data": {
            "image/png": "[encoded data removed]",
            "text/plain": [
              "<Figure size 432x288 with 1 Axes>"
            ]
          },
          "metadata": {
            "needs_background": "light"
          },
          "output_type": "display_data"
        }
      ],
      "source": [
        "# Whether is the relationship between Protocol_type vs target status\n",
        "sns.countplot(x = 'protocol_type',hue = \"Attack Type\",data = df).set(title='Influence of Protocol Type')\n",
        "plt.show()"
      ]
    },
    {
      "cell_type": "code",
      "execution_count": 18,
      "metadata": {
        "colab": {
          "base_uri": "https://localhost:8080/",
          "height": 0
        },
        "id": "BFIl7IXwAOjT",
        "outputId": "aa3c7923-e267-466d-af69-355b10696120"
      },
      "outputs": [
        {
          "data": {
            "image/png": "[encoded data removed]",
            "text/plain": [
              "<Figure size 432x288 with 1 Axes>"
            ]
          },
          "metadata": {
            "needs_background": "light"
          },
          "output_type": "display_data"
        }
      ],
      "source": [
        "## Whether is the relationship between is_guess_login vs target status\n",
        "sns.countplot(x = 'is_guest_login',hue = \"Attack Type\",data = df).set(title='Influence of Guest Login')\n",
        "plt.show()"
      ]
    },
    {
      "cell_type": "code",
      "execution_count": 19,
      "metadata": {
        "colab": {
          "base_uri": "https://localhost:8080/"
        },
        "id": "ZZcrUmu6DCf5",
        "outputId": "800fb5b9-a6fa-4fec-e77d-dfaa8b4a12eb"
      },
      "outputs": [
        {
          "data": {
            "text/plain": [
              "0    493336\n",
              "1       685\n",
              "Name: is_guest_login, dtype: int64"
            ]
          },
          "execution_count": 19,
          "metadata": {},
          "output_type": "execute_result"
        }
      ],
      "source": [
        "df['is_guest_login'].value_counts()"
      ]
    },
    {
      "cell_type": "code",
      "execution_count": 20,
      "metadata": {
        "colab": {
          "base_uri": "https://localhost:8080/",
          "height": 0
        },
        "id": "YgZ6Ed0cDGi5",
        "outputId": "293451c0-7f93-4443-fdfa-007dc1ff4957"
      },
      "outputs": [
        {
          "data": {
            "image/png": "[encoded data removed]",
            "text/plain": [
              "<Figure size 1440x1080 with 1 Axes>"
            ]
          },
          "metadata": {
            "needs_background": "light"
          },
          "output_type": "display_data"
        }
      ],
      "source": [
        "## How about service ? \n",
        "ax, fig = plt.subplots(figsize = (20, 15))\n",
        "sns.countplot(x = 'service',hue = \"Attack Type\",data = df).set(title='Influence of Service')\n",
        "plt.xticks(rotation=90)\n",
        "plt.show()"
      ]
    },
    {
      "cell_type": "code",
      "execution_count": 21,
      "metadata": {
        "colab": {
          "base_uri": "https://localhost:8080/",
          "height": 0
        },
        "id": "apH9NMA-IyN5",
        "outputId": "f3ad5824-1097-41ab-f29f-f332aeb8217f"
      },
      "outputs": [
        {
          "data": {
            "image/png": "[encoded data removed]",
            "text/plain": [
              "<Figure size 1080x720 with 1 Axes>"
            ]
          },
          "metadata": {
            "needs_background": "light"
          },
          "output_type": "display_data"
        }
      ],
      "source": [
        "## Whether is the relationship between is_guess_login vs target status\n",
        "ax, fig = plt.subplots(figsize = (15,10))\n",
        "sns.countplot(x = 'flag',hue = \"Attack Type\",data = df).set(title='Influence of Flag')\n",
        "plt.legend(loc = 'best')\n",
        "plt.xticks(rotation = 45)\n",
        "plt.show()"
      ]
    },
    {
      "cell_type": "markdown",
      "metadata": {
        "id": "L6IZ2yKiFyky"
      },
      "source": [
        "#### Multivariate  Analysis"
      ]
    },
    {
      "cell_type": "code",
      "execution_count": 22,
      "metadata": {
        "colab": {
          "base_uri": "https://localhost:8080/",
          "height": 0
        },
        "id": "WMZo6broGDqa",
        "outputId": "57b514be-c530-4e9b-c620-9e430b146cf6"
      },
      "outputs": [
        {
          "data": {
            "image/png": "[encoded data removed]",
            "text/plain": [
              "<Figure size 1440x1440 with 2 Axes>"
            ]
          },
          "metadata": {
            "needs_background": "light"
          },
          "output_type": "display_data"
        }
      ],
      "source": [
        "f, ax = plt.subplots(figsize =(20,20)) \n",
        "\n",
        "\n",
        "corr_matrix=df.drop(['num_outbound_cmds','is_host_login'],axis=1).corr()\n",
        "\n",
        "sns.heatmap(corr_matrix,ax = ax,cmap =\"YlGnBu\", linewidths = 0.1)\n",
        "plt.show()"
      ]
    },
    {
      "cell_type": "code",
      "execution_count": 23,
      "metadata": {
        "id": "-ilOvoK37WGW"
      },
      "outputs": [],
      "source": [
        "## Check some pair of variables"
      ]
    },
    {
      "cell_type": "code",
      "execution_count": 24,
      "metadata": {
        "colab": {
          "base_uri": "https://localhost:8080/"
        },
        "id": "Plw7owKb7WGW",
        "outputId": "73a2ba2b-8def-48b7-c404-bbde72fea228"
      },
      "outputs": [
        {
          "data": {
            "text/plain": [
              "0.9938277978737916"
            ]
          },
          "execution_count": 24,
          "metadata": {},
          "output_type": "execute_result"
        }
      ],
      "source": [
        "df['num_root'].corr(df['num_compromised'])"
      ]
    },
    {
      "cell_type": "code",
      "execution_count": 25,
      "metadata": {
        "colab": {
          "base_uri": "https://localhost:8080/"
        },
        "id": "ZnXFmvEW7WGW",
        "outputId": "a91a5b82-c2c0-444e-9f25-1597cf84766f"
      },
      "outputs": [
        {
          "data": {
            "text/plain": [
              "0.998361507272553"
            ]
          },
          "execution_count": 25,
          "metadata": {},
          "output_type": "execute_result"
        }
      ],
      "source": [
        "df['srv_serror_rate'].corr(df['serror_rate'])"
      ]
    },
    {
      "cell_type": "code",
      "execution_count": 26,
      "metadata": {
        "colab": {
          "base_uri": "https://localhost:8080/"
        },
        "id": "ZdhLi6xK7WGW",
        "outputId": "8d9478be-3c68-4e3b-e6b9-56d162a7af9a"
      },
      "outputs": [
        {
          "data": {
            "text/plain": [
              "0.9436670688882645"
            ]
          },
          "execution_count": 26,
          "metadata": {},
          "output_type": "execute_result"
        }
      ],
      "source": [
        "df['srv_count'].corr(df['count'])\n"
      ]
    },
    {
      "cell_type": "code",
      "execution_count": 27,
      "metadata": {
        "colab": {
          "base_uri": "https://localhost:8080/"
        },
        "id": "djepq1Jw7WGW",
        "outputId": "b74d181a-dbac-447c-9fae-100c579cc779"
      },
      "outputs": [
        {
          "data": {
            "text/plain": [
              "0.9947309539818242"
            ]
          },
          "execution_count": 27,
          "metadata": {},
          "output_type": "execute_result"
        }
      ],
      "source": [
        "df['srv_rerror_rate'].corr(df['rerror_rate'])\n"
      ]
    },
    {
      "cell_type": "code",
      "execution_count": 28,
      "metadata": {
        "colab": {
          "base_uri": "https://localhost:8080/"
        },
        "id": "ZDxtiV-t7WGX",
        "outputId": "e6699a05-aeac-4c56-971d-feb9374a7bfe"
      },
      "outputs": [
        {
          "data": {
            "text/plain": [
              "0.9736854572953835"
            ]
          },
          "execution_count": 28,
          "metadata": {},
          "output_type": "execute_result"
        }
      ],
      "source": [
        "df['dst_host_same_srv_rate'].corr(df['dst_host_srv_count'])\n"
      ]
    },
    {
      "cell_type": "code",
      "execution_count": 29,
      "metadata": {
        "colab": {
          "base_uri": "https://localhost:8080/"
        },
        "id": "MnzqM3Mg7WGX",
        "outputId": "8045c86d-49f4-488f-f123-b1d18152d303"
      },
      "outputs": [
        {
          "data": {
            "text/plain": [
              "0.9981559173373293"
            ]
          },
          "execution_count": 29,
          "metadata": {},
          "output_type": "execute_result"
        }
      ],
      "source": [
        "df['dst_host_srv_serror_rate'].corr(df['dst_host_serror_rate'])\n"
      ]
    },
    {
      "cell_type": "code",
      "execution_count": 30,
      "metadata": {
        "colab": {
          "base_uri": "https://localhost:8080/"
        },
        "id": "LJIxZlXq7WGX",
        "outputId": "b7bc181a-dcfc-4186-e299-dbf86dd668f1"
      },
      "outputs": [
        {
          "data": {
            "text/plain": [
              "0.9848038371110285"
            ]
          },
          "execution_count": 30,
          "metadata": {},
          "output_type": "execute_result"
        }
      ],
      "source": [
        "df['dst_host_srv_rerror_rate'].corr(df['dst_host_rerror_rate'])\n"
      ]
    },
    {
      "cell_type": "code",
      "execution_count": 31,
      "metadata": {
        "colab": {
          "base_uri": "https://localhost:8080/"
        },
        "id": "TS-h-mFq7WGX",
        "outputId": "b2245c72-6bb6-462b-af47-8143120549bb"
      },
      "outputs": [
        {
          "data": {
            "text/plain": [
              "0.9278080342690969"
            ]
          },
          "execution_count": 31,
          "metadata": {},
          "output_type": "execute_result"
        }
      ],
      "source": [
        "df['dst_host_same_srv_rate'].corr(df['same_srv_rate'])\n"
      ]
    },
    {
      "cell_type": "code",
      "execution_count": 32,
      "metadata": {
        "colab": {
          "base_uri": "https://localhost:8080/"
        },
        "id": "vdSl6RxZ7WGX",
        "outputId": "e210ef19-3695-4d1b-b11f-e0a9ccb67343"
      },
      "outputs": [
        {
          "data": {
            "text/plain": [
              "0.8989546630323716"
            ]
          },
          "execution_count": 32,
          "metadata": {},
          "output_type": "execute_result"
        }
      ],
      "source": [
        "df['dst_host_srv_count'].corr(df['same_srv_rate'])\n"
      ]
    },
    {
      "cell_type": "code",
      "execution_count": 33,
      "metadata": {
        "colab": {
          "base_uri": "https://localhost:8080/"
        },
        "id": "HPkv1Cft7WGX",
        "outputId": "d08fa480-beed-40da-cf13-e049aa4c362b"
      },
      "outputs": [
        {
          "data": {
            "text/plain": [
              "0.944926367678324"
            ]
          },
          "execution_count": 33,
          "metadata": {},
          "output_type": "execute_result"
        }
      ],
      "source": [
        "df['dst_host_same_src_port_rate'].corr(df['srv_count'])\n"
      ]
    },
    {
      "cell_type": "code",
      "execution_count": 34,
      "metadata": {
        "colab": {
          "base_uri": "https://localhost:8080/"
        },
        "id": "nyj0NOaN7WGX",
        "outputId": "cf58a99a-0702-42db-a232-11633882d8f3"
      },
      "outputs": [
        {
          "data": {
            "text/plain": [
              "0.9986729680104371"
            ]
          },
          "execution_count": 34,
          "metadata": {},
          "output_type": "execute_result"
        }
      ],
      "source": [
        "df['dst_host_serror_rate'].corr(df['serror_rate'])\n"
      ]
    },
    {
      "cell_type": "code",
      "execution_count": 35,
      "metadata": {
        "colab": {
          "base_uri": "https://localhost:8080/"
        },
        "id": "VwJhEGkl7WGX",
        "outputId": "4d9a6be8-8c66-49b7-df9b-f755ab8ccdf5"
      },
      "outputs": [
        {
          "data": {
            "text/plain": [
              "0.9865705438845764"
            ]
          },
          "execution_count": 35,
          "metadata": {},
          "output_type": "execute_result"
        }
      ],
      "source": [
        "df['dst_host_srv_rerror_rate'].corr(df['srv_rerror_rate'])\n"
      ]
    },
    {
      "cell_type": "markdown",
      "metadata": {
        "id": "7L4-hafU7JuJ"
      },
      "source": [
        "## Data Preprocessing"
      ]
    },
    {
      "cell_type": "markdown",
      "metadata": {
        "id": "8QLZ88aWHqYv"
      },
      "source": [
        "### Data Cleaning"
      ]
    },
    {
      "cell_type": "markdown",
      "metadata": {
        "id": "etIZZo_cHuqe"
      },
      "source": [
        "Whether there is null value"
      ]
    },
    {
      "cell_type": "code",
      "execution_count": 36,
      "metadata": {
        "colab": {
          "base_uri": "https://localhost:8080/",
          "height": 0
        },
        "id": "q-qS1YiiH2NV",
        "outputId": "509b09aa-926f-40cf-c9e9-5dee8ad4cb5e"
      },
      "outputs": [
        {
          "data": {
            "image/png": "[encoded data removed]",
            "text/plain": [
              "<Figure size 720x360 with 1 Axes>"
            ]
          },
          "metadata": {
            "needs_background": "light"
          },
          "output_type": "display_data"
        }
      ],
      "source": [
        "plt.figure(figsize=(10,5))\n",
        "sns.heatmap(df.isnull(),yticklabels=False,cbar=False)\n",
        "\n",
        "plt.show()"
      ]
    },
    {
      "cell_type": "markdown",
      "metadata": {
        "id": "N6ioN-Gb7WGU"
      },
      "source": [
        "### Redundant Variables"
      ]
    },
    {
      "cell_type": "code",
      "execution_count": 37,
      "metadata": {
        "id": "XNt4SIrzJvtR"
      },
      "outputs": [],
      "source": [
        "#Drop columns with Nan (actually no columns have null value)\n",
        "df = df.dropna('columns')"
      ]
    },
    {
      "cell_type": "code",
      "execution_count": 38,
      "metadata": {
        "colab": {
          "base_uri": "https://localhost:8080/"
        },
        "id": "zCOsLKLiKfmb",
        "outputId": "030756ae-7162-4ba6-aff9-fac133e3b38c"
      },
      "outputs": [
        {
          "name": "stdout",
          "output_type": "stream",
          "text": [
            "num_outbound_cmds\n",
            "is_host_login\n"
          ]
        }
      ],
      "source": [
        "# Drop column with one unique value\n",
        "for col in df:\n",
        "    if df[col].nunique() <= 1:\n",
        "      print(col)\n",
        "      df.drop(col , axis = 1 , inplace= True)"
      ]
    },
    {
      "cell_type": "code",
      "execution_count": 39,
      "metadata": {
        "colab": {
          "base_uri": "https://localhost:8080/"
        },
        "id": "QeJU08I4LFPS",
        "outputId": "ed43fdc3-8acf-46c1-9cc8-53b017d37d21"
      },
      "outputs": [
        {
          "data": {
            "text/plain": [
              "(494021, 41)"
            ]
          },
          "execution_count": 39,
          "metadata": {},
          "output_type": "execute_result"
        }
      ],
      "source": [
        "df.shape"
      ]
    },
    {
      "cell_type": "markdown",
      "metadata": {
        "id": "vHc5cGuzLOI4"
      },
      "source": [
        "Drop attributes with high correlation  "
      ]
    },
    {
      "cell_type": "code",
      "execution_count": 40,
      "metadata": {
        "id": "fwgepKkP7WGY"
      },
      "outputs": [],
      "source": [
        "#This variable is highly correlated with num_compromised and should be ignored for analysis.\n",
        "#(Correlation = 0.9938277978738366)\n",
        "df.drop('num_root',axis = 1,inplace = True)\n",
        "\n",
        "#This variable is highly correlated with serror_rate and should be ignored for analysis.\n",
        "#(Correlation = 0.9983615072725952)\n",
        "df.drop('srv_serror_rate',axis = 1,inplace = True)\n",
        "\n",
        "#This variable is highly correlated with rerror_rate and should be ignored for analysis.\n",
        "#(Correlation = 0.9947309539817937)\n",
        "df.drop('srv_rerror_rate',axis = 1, inplace=True)\n",
        "\n",
        "#This variable is highly correlated with srv_serror_rate and should be ignored for analysis.\n",
        "#(Correlation = 0.9993041091850098)\n",
        "df.drop('dst_host_srv_serror_rate',axis = 1, inplace=True)\n",
        "#This variable is highly correlated with rerror_rate and should be ignored for analysis.\n",
        "#(Correlation = 0.9869947924956001)\n",
        "df.drop('dst_host_serror_rate',axis = 1, inplace=True)\n",
        "\n",
        "#This variable is highly correlated with srv_rerror_rate and should be ignored for analysis.\n",
        "#(Correlation = 0.9821663427308375)\n",
        "df.drop('dst_host_rerror_rate',axis = 1, inplace=True)\n",
        "\n",
        "#This variable is highly correlated with rerror_rate and should be ignored for analysis.\n",
        "#(Correlation = 0.9851995540751249)\n",
        "df.drop('dst_host_srv_rerror_rate',axis = 1, inplace=True)\n",
        "\n",
        "#This variable is highly correlated with dst_host_srv_count and should be ignored for analysis.\n",
        "#(Correlation = 0.9736854572953938)\n",
        "df.drop('dst_host_same_srv_rate',axis = 1, inplace=True)"
      ]
    },
    {
      "cell_type": "code",
      "execution_count": 41,
      "metadata": {
        "colab": {
          "base_uri": "https://localhost:8080/",
          "height": 0
        },
        "id": "MRPIITcO7WGY",
        "outputId": "fe2768a3-918a-43be-f08e-818433caa4dc"
      },
      "outputs": [
        {
          "data": {
            "text/html": [
              "\n",
              "  <div id=\"df-7bb0c298-37c2-4eae-bd68-a00007364670\">\n",
              "    <div class=\"colab-df-container\">\n",
              "      <div>\n",
              "<style scoped>\n",
              "    .dataframe tbody tr th:only-of-type {\n",
              "        vertical-align: middle;\n",
              "    }\n",
              "\n",
              "    .dataframe tbody tr th {\n",
              "        vertical-align: top;\n",
              "    }\n",
              "\n",
              "    .dataframe thead th {\n",
              "        text-align: right;\n",
              "    }\n",
              "</style>\n",
              "<table border=\"1\" class=\"dataframe\">\n",
              "  <thead>\n",
              "    <tr style=\"text-align: right;\">\n",
              "      <th></th>\n",
              "      <th>duration</th>\n",
              "      <th>protocol_type</th>\n",
              "      <th>service</th>\n",
              "      <th>flag</th>\n",
              "      <th>src_bytes</th>\n",
              "      <th>dst_bytes</th>\n",
              "      <th>land</th>\n",
              "      <th>wrong_fragment</th>\n",
              "      <th>urgent</th>\n",
              "      <th>hot</th>\n",
              "      <th>...</th>\n",
              "      <th>same_srv_rate</th>\n",
              "      <th>diff_srv_rate</th>\n",
              "      <th>srv_diff_host_rate</th>\n",
              "      <th>dst_host_count</th>\n",
              "      <th>dst_host_srv_count</th>\n",
              "      <th>dst_host_diff_srv_rate</th>\n",
              "      <th>dst_host_same_src_port_rate</th>\n",
              "      <th>dst_host_srv_diff_host_rate</th>\n",
              "      <th>target</th>\n",
              "      <th>Attack Type</th>\n",
              "    </tr>\n",
              "  </thead>\n",
              "  <tbody>\n",
              "    <tr>\n",
              "      <th>0</th>\n",
              "      <td>0</td>\n",
              "      <td>tcp</td>\n",
              "      <td>http</td>\n",
              "      <td>SF</td>\n",
              "      <td>181</td>\n",
              "      <td>5450</td>\n",
              "      <td>0</td>\n",
              "      <td>0</td>\n",
              "      <td>0</td>\n",
              "      <td>0</td>\n",
              "      <td>...</td>\n",
              "      <td>1.0</td>\n",
              "      <td>0.0</td>\n",
              "      <td>0.0</td>\n",
              "      <td>9</td>\n",
              "      <td>9</td>\n",
              "      <td>0.0</td>\n",
              "      <td>0.11</td>\n",
              "      <td>0.0</td>\n",
              "      <td>normal.</td>\n",
              "      <td>normal</td>\n",
              "    </tr>\n",
              "    <tr>\n",
              "      <th>1</th>\n",
              "      <td>0</td>\n",
              "      <td>tcp</td>\n",
              "      <td>http</td>\n",
              "      <td>SF</td>\n",
              "      <td>239</td>\n",
              "      <td>486</td>\n",
              "      <td>0</td>\n",
              "      <td>0</td>\n",
              "      <td>0</td>\n",
              "      <td>0</td>\n",
              "      <td>...</td>\n",
              "      <td>1.0</td>\n",
              "      <td>0.0</td>\n",
              "      <td>0.0</td>\n",
              "      <td>19</td>\n",
              "      <td>19</td>\n",
              "      <td>0.0</td>\n",
              "      <td>0.05</td>\n",
              "      <td>0.0</td>\n",
              "      <td>normal.</td>\n",
              "      <td>normal</td>\n",
              "    </tr>\n",
              "    <tr>\n",
              "      <th>2</th>\n",
              "      <td>0</td>\n",
              "      <td>tcp</td>\n",
              "      <td>http</td>\n",
              "      <td>SF</td>\n",
              "      <td>235</td>\n",
              "      <td>1337</td>\n",
              "      <td>0</td>\n",
              "      <td>0</td>\n",
              "      <td>0</td>\n",
              "      <td>0</td>\n",
              "      <td>...</td>\n",
              "      <td>1.0</td>\n",
              "      <td>0.0</td>\n",
              "      <td>0.0</td>\n",
              "      <td>29</td>\n",
              "      <td>29</td>\n",
              "      <td>0.0</td>\n",
              "      <td>0.03</td>\n",
              "      <td>0.0</td>\n",
              "      <td>normal.</td>\n",
              "      <td>normal</td>\n",
              "    </tr>\n",
              "    <tr>\n",
              "      <th>3</th>\n",
              "      <td>0</td>\n",
              "      <td>tcp</td>\n",
              "      <td>http</td>\n",
              "      <td>SF</td>\n",
              "      <td>219</td>\n",
              "      <td>1337</td>\n",
              "      <td>0</td>\n",
              "      <td>0</td>\n",
              "      <td>0</td>\n",
              "      <td>0</td>\n",
              "      <td>...</td>\n",
              "      <td>1.0</td>\n",
              "      <td>0.0</td>\n",
              "      <td>0.0</td>\n",
              "      <td>39</td>\n",
              "      <td>39</td>\n",
              "      <td>0.0</td>\n",
              "      <td>0.03</td>\n",
              "      <td>0.0</td>\n",
              "      <td>normal.</td>\n",
              "      <td>normal</td>\n",
              "    </tr>\n",
              "    <tr>\n",
              "      <th>4</th>\n",
              "      <td>0</td>\n",
              "      <td>tcp</td>\n",
              "      <td>http</td>\n",
              "      <td>SF</td>\n",
              "      <td>217</td>\n",
              "      <td>2032</td>\n",
              "      <td>0</td>\n",
              "      <td>0</td>\n",
              "      <td>0</td>\n",
              "      <td>0</td>\n",
              "      <td>...</td>\n",
              "      <td>1.0</td>\n",
              "      <td>0.0</td>\n",
              "      <td>0.0</td>\n",
              "      <td>49</td>\n",
              "      <td>49</td>\n",
              "      <td>0.0</td>\n",
              "      <td>0.02</td>\n",
              "      <td>0.0</td>\n",
              "      <td>normal.</td>\n",
              "      <td>normal</td>\n",
              "    </tr>\n",
              "  </tbody>\n",
              "</table>\n",
              "<p>5 rows × 33 columns</p>\n",
              "</div>\n",
              "      <button class=\"colab-df-convert\" onclick=\"convertToInteractive('df-7bb0c298-37c2-4eae-bd68-a00007364670')\"\n",
              "              title=\"Convert this dataframe to an interactive table.\"\n",
              "              style=\"display:none;\">\n",
              "        \n",
              "  <svg xmlns=\"http://www.w3.org/2000/svg\" height=\"24px\"viewBox=\"0 0 24 24\"\n",
              "       width=\"24px\">\n",
              "    <path d=\"M0 0h24v24H0V0z\" fill=\"none\"/>\n",
              "    <path d=\"M18.56 5.44l.94 2.06.94-2.06 2.06-.94-2.06-.94-.94-2.06-.94 2.06-2.06.94zm-11 1L8.5 8.5l.94-2.06 2.06-.94-2.06-.94L8.5 2.5l-.94 2.06-2.06.94zm10 10l.94 2.06.94-2.06 2.06-.94-2.06-.94-.94-2.06-.94 2.06-2.06.94z\"/><path d=\"M17.41 7.96l-1.37-1.37c-.4-.4-.92-.59-1.43-.59-.52 0-1.04.2-1.43.59L10.3 9.45l-7.72 7.72c-.78.78-.78 2.05 0 2.83L4 21.41c.39.39.9.59 1.41.59.51 0 1.02-.2 1.41-.59l7.78-7.78 2.81-2.81c.8-.78.8-2.07 0-2.86zM5.41 20L4 18.59l7.72-7.72 1.47 1.35L5.41 20z\"/>\n",
              "  </svg>\n",
              "      </button>\n",
              "      \n",
              "  <style>\n",
              "    .colab-df-container {\n",
              "      display:flex;\n",
              "      flex-wrap:wrap;\n",
              "      gap: 12px;\n",
              "    }\n",
              "\n",
              "    .colab-df-convert {\n",
              "      background-color: #E8F0FE;\n",
              "      border: none;\n",
              "      border-radius: 50%;\n",
              "      cursor: pointer;\n",
              "      display: none;\n",
              "      fill: #1967D2;\n",
              "      height: 32px;\n",
              "      padding: 0 0 0 0;\n",
              "      width: 32px;\n",
              "    }\n",
              "\n",
              "    .colab-df-convert:hover {\n",
              "      background-color: #E2EBFA;\n",
              "      box-shadow: 0px 1px 2px rgba(60, 64, 67, 0.3), 0px 1px 3px 1px rgba(60, 64, 67, 0.15);\n",
              "      fill: #174EA6;\n",
              "    }\n",
              "\n",
              "    [theme=dark] .colab-df-convert {\n",
              "      background-color: #3B4455;\n",
              "      fill: #D2E3FC;\n",
              "    }\n",
              "\n",
              "    [theme=dark] .colab-df-convert:hover {\n",
              "      background-color: #434B5C;\n",
              "      box-shadow: 0px 1px 3px 1px rgba(0, 0, 0, 0.15);\n",
              "      filter: drop-shadow(0px 1px 2px rgba(0, 0, 0, 0.3));\n",
              "      fill: #FFFFFF;\n",
              "    }\n",
              "  </style>\n",
              "\n",
              "      <script>\n",
              "        const buttonEl =\n",
              "          document.querySelector('#df-7bb0c298-37c2-4eae-bd68-a00007364670 button.colab-df-convert');\n",
              "        buttonEl.style.display =\n",
              "          google.colab.kernel.accessAllowed ? 'block' : 'none';\n",
              "\n",
              "        async function convertToInteractive(key) {\n",
              "          const element = document.querySelector('#df-7bb0c298-37c2-4eae-bd68-a00007364670');\n",
              "          const dataTable =\n",
              "            await google.colab.kernel.invokeFunction('convertToInteractive',\n",
              "                                                     [key], {});\n",
              "          if (!dataTable) return;\n",
              "\n",
              "          const docLinkHtml = 'Like what you see? Visit the ' +\n",
              "            '<a target=\"_blank\" href=https://colab.research.google.com/notebooks/data_table.ipynb>data table notebook</a>'\n",
              "            + ' to learn more about interactive tables.';\n",
              "          element.innerHTML = '';\n",
              "          dataTable['output_type'] = 'display_data';\n",
              "          await google.colab.output.renderOutput(dataTable, element);\n",
              "          const docLink = document.createElement('div');\n",
              "          docLink.innerHTML = docLinkHtml;\n",
              "          element.appendChild(docLink);\n",
              "        }\n",
              "      </script>\n",
              "    </div>\n",
              "  </div>\n",
              "  "
            ],
            "text/plain": [
              "   duration protocol_type service flag  src_bytes  dst_bytes  land  \\\n",
              "0         0           tcp    http   SF        181       5450     0   \n",
              "1         0           tcp    http   SF        239        486     0   \n",
              "2         0           tcp    http   SF        235       1337     0   \n",
              "3         0           tcp    http   SF        219       1337     0   \n",
              "4         0           tcp    http   SF        217       2032     0   \n",
              "\n",
              "   wrong_fragment  urgent  hot  ...  same_srv_rate  diff_srv_rate  \\\n",
              "0               0       0    0  ...            1.0            0.0   \n",
              "1               0       0    0  ...            1.0            0.0   \n",
              "2               0       0    0  ...            1.0            0.0   \n",
              "3               0       0    0  ...            1.0            0.0   \n",
              "4               0       0    0  ...            1.0            0.0   \n",
              "\n",
              "   srv_diff_host_rate  dst_host_count  dst_host_srv_count  \\\n",
              "0                 0.0               9                   9   \n",
              "1                 0.0              19                  19   \n",
              "2                 0.0              29                  29   \n",
              "3                 0.0              39                  39   \n",
              "4                 0.0              49                  49   \n",
              "\n",
              "   dst_host_diff_srv_rate  dst_host_same_src_port_rate  \\\n",
              "0                     0.0                         0.11   \n",
              "1                     0.0                         0.05   \n",
              "2                     0.0                         0.03   \n",
              "3                     0.0                         0.03   \n",
              "4                     0.0                         0.02   \n",
              "\n",
              "   dst_host_srv_diff_host_rate   target  Attack Type  \n",
              "0                          0.0  normal.       normal  \n",
              "1                          0.0  normal.       normal  \n",
              "2                          0.0  normal.       normal  \n",
              "3                          0.0  normal.       normal  \n",
              "4                          0.0  normal.       normal  \n",
              "\n",
              "[5 rows x 33 columns]"
            ]
          },
          "execution_count": 41,
          "metadata": {},
          "output_type": "execute_result"
        }
      ],
      "source": [
        "## Checking\n",
        "df.head()"
      ]
    },
    {
      "cell_type": "code",
      "execution_count": 42,
      "metadata": {
        "colab": {
          "base_uri": "https://localhost:8080/"
        },
        "id": "9Gb5iizi7WGZ",
        "outputId": "9fc41f1d-d9fd-41b8-a5af-511b15abd222"
      },
      "outputs": [
        {
          "data": {
            "text/plain": [
              "duration                         int64\n",
              "protocol_type                   object\n",
              "service                         object\n",
              "flag                            object\n",
              "src_bytes                        int64\n",
              "dst_bytes                        int64\n",
              "land                             int64\n",
              "wrong_fragment                   int64\n",
              "urgent                           int64\n",
              "hot                              int64\n",
              "num_failed_logins                int64\n",
              "logged_in                        int64\n",
              "num_compromised                  int64\n",
              "root_shell                       int64\n",
              "su_attempted                     int64\n",
              "num_file_creations               int64\n",
              "num_shells                       int64\n",
              "num_access_files                 int64\n",
              "is_guest_login                   int64\n",
              "count                            int64\n",
              "srv_count                        int64\n",
              "serror_rate                    float64\n",
              "rerror_rate                    float64\n",
              "same_srv_rate                  float64\n",
              "diff_srv_rate                  float64\n",
              "srv_diff_host_rate             float64\n",
              "dst_host_count                   int64\n",
              "dst_host_srv_count               int64\n",
              "dst_host_diff_srv_rate         float64\n",
              "dst_host_same_src_port_rate    float64\n",
              "dst_host_srv_diff_host_rate    float64\n",
              "target                          object\n",
              "Attack Type                     object\n",
              "dtype: object"
            ]
          },
          "execution_count": 42,
          "metadata": {},
          "output_type": "execute_result"
        }
      ],
      "source": [
        "df.dtypes"
      ]
    },
    {
      "cell_type": "markdown",
      "metadata": {
        "id": "Zl0fge95n4aY"
      },
      "source": [
        "### Variable Transformations"
      ]
    },
    {
      "cell_type": "code",
      "execution_count": 43,
      "metadata": {
        "id": "qUx_5f_4n635"
      },
      "outputs": [],
      "source": [
        "le = LabelEncoder()\n",
        "sc = StandardScaler()"
      ]
    },
    {
      "cell_type": "code",
      "execution_count": 44,
      "metadata": {
        "id": "kQd0H7qqfyVq"
      },
      "outputs": [],
      "source": [
        "# Encode Attack Type \n",
        "df['Attack Type']= le.fit_transform(df['Attack Type'])\n",
        "df.drop('target', axis = 1, inplace=True)"
      ]
    },
    {
      "cell_type": "code",
      "execution_count": 45,
      "metadata": {
        "colab": {
          "base_uri": "https://localhost:8080/"
        },
        "id": "hM-af3UVOBfm",
        "outputId": "eb0b4053-05f0-4f07-c07a-74d2573ad724"
      },
      "outputs": [
        {
          "data": {
            "text/plain": [
              "['flag', 'service', 'protocol_type']"
            ]
          },
          "execution_count": 45,
          "metadata": {},
          "output_type": "execute_result"
        }
      ],
      "source": [
        "numeric_features  = list(df._get_numeric_data().columns)\n",
        "cat_features = list(set(df.columns) - set(numeric_features))\n",
        "numeric_features.remove('Attack Type')\n",
        "cat_features"
      ]
    },
    {
      "cell_type": "code",
      "execution_count": 46,
      "metadata": {
        "id": "s9e9XaAShkiE"
      },
      "outputs": [],
      "source": [
        "for i in cat_features:\n",
        "  df[i] = le.fit_transform(df[i])"
      ]
    },
    {
      "cell_type": "code",
      "execution_count": 47,
      "metadata": {
        "colab": {
          "base_uri": "https://localhost:8080/",
          "height": 0
        },
        "id": "esDy_3pshs8E",
        "outputId": "cf72cf0e-0bcf-49d9-c326-ba5356d1080c"
      },
      "outputs": [
        {
          "data": {
            "text/html": [
              "\n",
              "  <div id=\"df-5596f1a8-2019-4dfa-89f1-6f4899f6b805\">\n",
              "    <div class=\"colab-df-container\">\n",
              "      <div>\n",
              "<style scoped>\n",
              "    .dataframe tbody tr th:only-of-type {\n",
              "        vertical-align: middle;\n",
              "    }\n",
              "\n",
              "    .dataframe tbody tr th {\n",
              "        vertical-align: top;\n",
              "    }\n",
              "\n",
              "    .dataframe thead th {\n",
              "        text-align: right;\n",
              "    }\n",
              "</style>\n",
              "<table border=\"1\" class=\"dataframe\">\n",
              "  <thead>\n",
              "    <tr style=\"text-align: right;\">\n",
              "      <th></th>\n",
              "      <th>duration</th>\n",
              "      <th>protocol_type</th>\n",
              "      <th>service</th>\n",
              "      <th>flag</th>\n",
              "      <th>src_bytes</th>\n",
              "      <th>dst_bytes</th>\n",
              "      <th>land</th>\n",
              "      <th>wrong_fragment</th>\n",
              "      <th>urgent</th>\n",
              "      <th>hot</th>\n",
              "      <th>...</th>\n",
              "      <th>rerror_rate</th>\n",
              "      <th>same_srv_rate</th>\n",
              "      <th>diff_srv_rate</th>\n",
              "      <th>srv_diff_host_rate</th>\n",
              "      <th>dst_host_count</th>\n",
              "      <th>dst_host_srv_count</th>\n",
              "      <th>dst_host_diff_srv_rate</th>\n",
              "      <th>dst_host_same_src_port_rate</th>\n",
              "      <th>dst_host_srv_diff_host_rate</th>\n",
              "      <th>Attack Type</th>\n",
              "    </tr>\n",
              "  </thead>\n",
              "  <tbody>\n",
              "    <tr>\n",
              "      <th>0</th>\n",
              "      <td>0</td>\n",
              "      <td>1</td>\n",
              "      <td>22</td>\n",
              "      <td>9</td>\n",
              "      <td>181</td>\n",
              "      <td>5450</td>\n",
              "      <td>0</td>\n",
              "      <td>0</td>\n",
              "      <td>0</td>\n",
              "      <td>0</td>\n",
              "      <td>...</td>\n",
              "      <td>0.0</td>\n",
              "      <td>1.0</td>\n",
              "      <td>0.0</td>\n",
              "      <td>0.0</td>\n",
              "      <td>9</td>\n",
              "      <td>9</td>\n",
              "      <td>0.0</td>\n",
              "      <td>0.11</td>\n",
              "      <td>0.0</td>\n",
              "      <td>1</td>\n",
              "    </tr>\n",
              "    <tr>\n",
              "      <th>1</th>\n",
              "      <td>0</td>\n",
              "      <td>1</td>\n",
              "      <td>22</td>\n",
              "      <td>9</td>\n",
              "      <td>239</td>\n",
              "      <td>486</td>\n",
              "      <td>0</td>\n",
              "      <td>0</td>\n",
              "      <td>0</td>\n",
              "      <td>0</td>\n",
              "      <td>...</td>\n",
              "      <td>0.0</td>\n",
              "      <td>1.0</td>\n",
              "      <td>0.0</td>\n",
              "      <td>0.0</td>\n",
              "      <td>19</td>\n",
              "      <td>19</td>\n",
              "      <td>0.0</td>\n",
              "      <td>0.05</td>\n",
              "      <td>0.0</td>\n",
              "      <td>1</td>\n",
              "    </tr>\n",
              "    <tr>\n",
              "      <th>2</th>\n",
              "      <td>0</td>\n",
              "      <td>1</td>\n",
              "      <td>22</td>\n",
              "      <td>9</td>\n",
              "      <td>235</td>\n",
              "      <td>1337</td>\n",
              "      <td>0</td>\n",
              "      <td>0</td>\n",
              "      <td>0</td>\n",
              "      <td>0</td>\n",
              "      <td>...</td>\n",
              "      <td>0.0</td>\n",
              "      <td>1.0</td>\n",
              "      <td>0.0</td>\n",
              "      <td>0.0</td>\n",
              "      <td>29</td>\n",
              "      <td>29</td>\n",
              "      <td>0.0</td>\n",
              "      <td>0.03</td>\n",
              "      <td>0.0</td>\n",
              "      <td>1</td>\n",
              "    </tr>\n",
              "    <tr>\n",
              "      <th>3</th>\n",
              "      <td>0</td>\n",
              "      <td>1</td>\n",
              "      <td>22</td>\n",
              "      <td>9</td>\n",
              "      <td>219</td>\n",
              "      <td>1337</td>\n",
              "      <td>0</td>\n",
              "      <td>0</td>\n",
              "      <td>0</td>\n",
              "      <td>0</td>\n",
              "      <td>...</td>\n",
              "      <td>0.0</td>\n",
              "      <td>1.0</td>\n",
              "      <td>0.0</td>\n",
              "      <td>0.0</td>\n",
              "      <td>39</td>\n",
              "      <td>39</td>\n",
              "      <td>0.0</td>\n",
              "      <td>0.03</td>\n",
              "      <td>0.0</td>\n",
              "      <td>1</td>\n",
              "    </tr>\n",
              "    <tr>\n",
              "      <th>4</th>\n",
              "      <td>0</td>\n",
              "      <td>1</td>\n",
              "      <td>22</td>\n",
              "      <td>9</td>\n",
              "      <td>217</td>\n",
              "      <td>2032</td>\n",
              "      <td>0</td>\n",
              "      <td>0</td>\n",
              "      <td>0</td>\n",
              "      <td>0</td>\n",
              "      <td>...</td>\n",
              "      <td>0.0</td>\n",
              "      <td>1.0</td>\n",
              "      <td>0.0</td>\n",
              "      <td>0.0</td>\n",
              "      <td>49</td>\n",
              "      <td>49</td>\n",
              "      <td>0.0</td>\n",
              "      <td>0.02</td>\n",
              "      <td>0.0</td>\n",
              "      <td>1</td>\n",
              "    </tr>\n",
              "  </tbody>\n",
              "</table>\n",
              "<p>5 rows × 32 columns</p>\n",
              "</div>\n",
              "      <button class=\"colab-df-convert\" onclick=\"convertToInteractive('df-5596f1a8-2019-4dfa-89f1-6f4899f6b805')\"\n",
              "              title=\"Convert this dataframe to an interactive table.\"\n",
              "              style=\"display:none;\">\n",
              "        \n",
              "  <svg xmlns=\"http://www.w3.org/2000/svg\" height=\"24px\"viewBox=\"0 0 24 24\"\n",
              "       width=\"24px\">\n",
              "    <path d=\"M0 0h24v24H0V0z\" fill=\"none\"/>\n",
              "    <path d=\"M18.56 5.44l.94 2.06.94-2.06 2.06-.94-2.06-.94-.94-2.06-.94 2.06-2.06.94zm-11 1L8.5 8.5l.94-2.06 2.06-.94-2.06-.94L8.5 2.5l-.94 2.06-2.06.94zm10 10l.94 2.06.94-2.06 2.06-.94-2.06-.94-.94-2.06-.94 2.06-2.06.94z\"/><path d=\"M17.41 7.96l-1.37-1.37c-.4-.4-.92-.59-1.43-.59-.52 0-1.04.2-1.43.59L10.3 9.45l-7.72 7.72c-.78.78-.78 2.05 0 2.83L4 21.41c.39.39.9.59 1.41.59.51 0 1.02-.2 1.41-.59l7.78-7.78 2.81-2.81c.8-.78.8-2.07 0-2.86zM5.41 20L4 18.59l7.72-7.72 1.47 1.35L5.41 20z\"/>\n",
              "  </svg>\n",
              "      </button>\n",
              "      \n",
              "  <style>\n",
              "    .colab-df-container {\n",
              "      display:flex;\n",
              "      flex-wrap:wrap;\n",
              "      gap: 12px;\n",
              "    }\n",
              "\n",
              "    .colab-df-convert {\n",
              "      background-color: #E8F0FE;\n",
              "      border: none;\n",
              "      border-radius: 50%;\n",
              "      cursor: pointer;\n",
              "      display: none;\n",
              "      fill: #1967D2;\n",
              "      height: 32px;\n",
              "      padding: 0 0 0 0;\n",
              "      width: 32px;\n",
              "    }\n",
              "\n",
              "    .colab-df-convert:hover {\n",
              "      background-color: #E2EBFA;\n",
              "      box-shadow: 0px 1px 2px rgba(60, 64, 67, 0.3), 0px 1px 3px 1px rgba(60, 64, 67, 0.15);\n",
              "      fill: #174EA6;\n",
              "    }\n",
              "\n",
              "    [theme=dark] .colab-df-convert {\n",
              "      background-color: #3B4455;\n",
              "      fill: #D2E3FC;\n",
              "    }\n",
              "\n",
              "    [theme=dark] .colab-df-convert:hover {\n",
              "      background-color: #434B5C;\n",
              "      box-shadow: 0px 1px 3px 1px rgba(0, 0, 0, 0.15);\n",
              "      filter: drop-shadow(0px 1px 2px rgba(0, 0, 0, 0.3));\n",
              "      fill: #FFFFFF;\n",
              "    }\n",
              "  </style>\n",
              "\n",
              "      <script>\n",
              "        const buttonEl =\n",
              "          document.querySelector('#df-5596f1a8-2019-4dfa-89f1-6f4899f6b805 button.colab-df-convert');\n",
              "        buttonEl.style.display =\n",
              "          google.colab.kernel.accessAllowed ? 'block' : 'none';\n",
              "\n",
              "        async function convertToInteractive(key) {\n",
              "          const element = document.querySelector('#df-5596f1a8-2019-4dfa-89f1-6f4899f6b805');\n",
              "          const dataTable =\n",
              "            await google.colab.kernel.invokeFunction('convertToInteractive',\n",
              "                                                     [key], {});\n",
              "          if (!dataTable) return;\n",
              "\n",
              "          const docLinkHtml = 'Like what you see? Visit the ' +\n",
              "            '<a target=\"_blank\" href=https://colab.research.google.com/notebooks/data_table.ipynb>data table notebook</a>'\n",
              "            + ' to learn more about interactive tables.';\n",
              "          element.innerHTML = '';\n",
              "          dataTable['output_type'] = 'display_data';\n",
              "          await google.colab.output.renderOutput(dataTable, element);\n",
              "          const docLink = document.createElement('div');\n",
              "          docLink.innerHTML = docLinkHtml;\n",
              "          element.appendChild(docLink);\n",
              "        }\n",
              "      </script>\n",
              "    </div>\n",
              "  </div>\n",
              "  "
            ],
            "text/plain": [
              "   duration  protocol_type  service  flag  src_bytes  dst_bytes  land  \\\n",
              "0         0              1       22     9        181       5450     0   \n",
              "1         0              1       22     9        239        486     0   \n",
              "2         0              1       22     9        235       1337     0   \n",
              "3         0              1       22     9        219       1337     0   \n",
              "4         0              1       22     9        217       2032     0   \n",
              "\n",
              "   wrong_fragment  urgent  hot  ...  rerror_rate  same_srv_rate  \\\n",
              "0               0       0    0  ...          0.0            1.0   \n",
              "1               0       0    0  ...          0.0            1.0   \n",
              "2               0       0    0  ...          0.0            1.0   \n",
              "3               0       0    0  ...          0.0            1.0   \n",
              "4               0       0    0  ...          0.0            1.0   \n",
              "\n",
              "   diff_srv_rate  srv_diff_host_rate  dst_host_count  dst_host_srv_count  \\\n",
              "0            0.0                 0.0               9                   9   \n",
              "1            0.0                 0.0              19                  19   \n",
              "2            0.0                 0.0              29                  29   \n",
              "3            0.0                 0.0              39                  39   \n",
              "4            0.0                 0.0              49                  49   \n",
              "\n",
              "   dst_host_diff_srv_rate  dst_host_same_src_port_rate  \\\n",
              "0                     0.0                         0.11   \n",
              "1                     0.0                         0.05   \n",
              "2                     0.0                         0.03   \n",
              "3                     0.0                         0.03   \n",
              "4                     0.0                         0.02   \n",
              "\n",
              "   dst_host_srv_diff_host_rate  Attack Type  \n",
              "0                          0.0            1  \n",
              "1                          0.0            1  \n",
              "2                          0.0            1  \n",
              "3                          0.0            1  \n",
              "4                          0.0            1  \n",
              "\n",
              "[5 rows x 32 columns]"
            ]
          },
          "execution_count": 47,
          "metadata": {},
          "output_type": "execute_result"
        }
      ],
      "source": [
        "df.head()"
      ]
    },
    {
      "cell_type": "code",
      "execution_count": 48,
      "metadata": {
        "id": "SFhWun-ki4kX"
      },
      "outputs": [],
      "source": [
        "train_set, test_set = train_test_split(df,test_size=0.33,random_state=42,stratify=df['Attack Type'])"
      ]
    },
    {
      "cell_type": "code",
      "execution_count": 49,
      "metadata": {
        "id": "HvDc2kUHXoow"
      },
      "outputs": [],
      "source": [
        "train_set[numeric_features] = sc.fit_transform(train_set[numeric_features])\n",
        "test_set[numeric_features] = sc.transform(test_set[numeric_features])"
      ]
    },
    {
      "cell_type": "code",
      "execution_count": 50,
      "metadata": {
        "colab": {
          "base_uri": "https://localhost:8080/"
        },
        "id": "NYtuYxy2YKSE",
        "outputId": "7568b3b8-4e99-401e-90b2-25cf73a0e556"
      },
      "outputs": [
        {
          "data": {
            "text/plain": [
              "duration                       -0.068410\n",
              "protocol_type                   0.000000\n",
              "service                        14.000000\n",
              "flag                            9.000000\n",
              "src_bytes                      -0.002212\n",
              "dst_bytes                      -0.027759\n",
              "land                           -0.006732\n",
              "wrong_fragment                 -0.046523\n",
              "urgent                          0.000000\n",
              "hot                            -0.044025\n",
              "num_failed_logins              -0.010254\n",
              "logged_in                      -0.416599\n",
              "num_compromised                -0.005549\n",
              "root_shell                     -0.010284\n",
              "su_attempted                   -0.005215\n",
              "num_file_creations             -0.011447\n",
              "num_shells                     -0.009430\n",
              "num_access_files               -0.027078\n",
              "is_guest_login                 -0.036815\n",
              "count                           0.838613\n",
              "srv_count                       0.885541\n",
              "serror_rate                    -0.463623\n",
              "rerror_rate                    -0.249275\n",
              "same_srv_rate                   0.537229\n",
              "diff_srv_rate                  -0.255279\n",
              "srv_diff_host_rate             -0.203611\n",
              "dst_host_count                  0.347926\n",
              "dst_host_srv_count              0.625757\n",
              "dst_host_diff_srv_rate         -0.282675\n",
              "dst_host_same_src_port_rate     0.827025\n",
              "dst_host_srv_diff_host_rate    -0.159097\n",
              "Attack Type                     0.000000\n",
              "Name: 198760, dtype: float64"
            ]
          },
          "execution_count": 50,
          "metadata": {},
          "output_type": "execute_result"
        }
      ],
      "source": [
        "train_set.iloc[0, : ]"
      ]
    },
    {
      "cell_type": "code",
      "execution_count": 51,
      "metadata": {
        "id": "0-aAfi8lrXwv"
      },
      "outputs": [],
      "source": [
        "## As we focus on the EDA so I will split the train and test right here\n",
        "X_train = train_set.drop('Attack Type', axis = 1)\n",
        "y_train = train_set['Attack Type']\n",
        "X_test = test_set.drop('Attack Type', axis = 1)\n",
        "y_test = test_set['Attack Type']"
      ]
    },
    {
      "cell_type": "code",
      "execution_count": 52,
      "metadata": {
        "colab": {
          "base_uri": "https://localhost:8080/"
        },
        "id": "4ffYPF_VXlHL",
        "outputId": "0b03788a-3c8b-4c87-faaa-28110dff80eb"
      },
      "outputs": [
        {
          "data": {
            "text/plain": [
              "((330994, 31), (330994,), (163027, 31), (163027,))"
            ]
          },
          "execution_count": 52,
          "metadata": {},
          "output_type": "execute_result"
        }
      ],
      "source": [
        "X_train.shape, y_train.shape, X_test.shape, y_test.shape"
      ]
    },
    {
      "cell_type": "markdown",
      "metadata": {
        "id": "Nsg-HIS5patI"
      },
      "source": [
        "## Modelling and Evaluation\n",
        " **Now we have:** \\\\\n",
        " `X_train` : Features of Training Data \\\\\n",
        " `y_train` : Target Variable of Training Data \\\\\n",
        "  `X_test` : Features of Test Data \\\\\n",
        " `y_test` : Target Variable of Test Data \\\\"
      ]
    },
    {
      "cell_type": "markdown",
      "metadata": {
        "id": "eYmgvm_7poMc"
      },
      "source": [
        "### Evaluation Metrics\n",
        "* First we use multiple metrics for the sake of simplicity\n"
      ]
    },
    {
      "cell_type": "code",
      "execution_count": 53,
      "metadata": {
        "id": "4XiOc0yApebz"
      },
      "outputs": [],
      "source": [
        "from sklearn.metrics import accuracy_score, classification_report"
      ]
    },
    {
      "cell_type": "markdown",
      "metadata": {
        "id": "OCZTMFTnrIqe"
      },
      "source": [
        "### Plotting Functions"
      ]
    },
    {
      "cell_type": "code",
      "execution_count": 54,
      "metadata": {
        "id": "N9r9wjV4rIWt"
      },
      "outputs": [],
      "source": [
        "def plot_validation_curve(train_scores, valid_scores, para_name, param_range, y_label = \"RMSE score\"):\n",
        "  fig, ax = plt.subplots(figsize= (8, 7))\n",
        "\n",
        "   ## abs score\n",
        "  train_scores = np.abs(train_scores)\n",
        "  valid_scores = np.abs(valid_scores)\n",
        "\n",
        "  ax.plot(param_range, train_scores.mean(axis = 1), label = 'train_scores')\n",
        "  ax.plot(param_range, valid_scores.mean(axis = 1), label = 'valid_scores')\n",
        "  ax.set_xlabel(para_name)\n",
        "  ax.set_ylabel(y_label)\n",
        "  ax.set_title(\"Validation Curve on \" + para_name )\n",
        "  ax.set_xticks(param_range)\n",
        "  ax.legend()\n",
        "  plt.show()\n",
        "\n",
        "def plot_learning_curve(train_sizes, train_scores, valid_scores, title = \"Learning Curve\",y_label = \"RMSE Score\"):\n",
        "  fig, ax = plt.subplots(figsize = (9, 7))\n",
        "\n",
        "  ## abs score\n",
        "  train_scores = np.abs(train_scores)\n",
        "  valid_scores = np.abs(valid_scores)\n",
        "\n",
        "  ax.plot(train_sizes, train_scores.mean(axis = 1), label= 'train_scores')\n",
        "  ax.plot(train_sizes, valid_scores.mean(axis = 1), label = 'valid_scores')\n",
        "  ax.set_xlabel('Number of Examples')\n",
        "  ax.set_ylabel(y_label)\n",
        "  ax.set_title(title)\n",
        "  ax.set_xticks(train_sizes)\n",
        "  ax.legend()\n",
        "  plt.show()"
      ]
    },
    {
      "cell_type": "markdown",
      "metadata": {
        "id": "cLQhhSkiqUkg"
      },
      "source": [
        "### Modelling"
      ]
    },
    {
      "cell_type": "markdown",
      "metadata": {
        "id": "c-3AFSI2qYdV"
      },
      "source": [
        "#### Gaussian Naive Bayes"
      ]
    },
    {
      "cell_type": "code",
      "execution_count": 56,
      "metadata": {
        "id": "sQdD67xCqVey"
      },
      "outputs": [],
      "source": [
        "from sklearn.naive_bayes import GaussianNB\n",
        "gnbModel = GaussianNB()"
      ]
    },
    {
      "cell_type": "code",
      "execution_count": 57,
      "metadata": {
        "colab": {
          "base_uri": "https://localhost:8080/"
        },
        "id": "7jU0MJVcqhps",
        "outputId": "66859848-e80e-4d6f-cd2d-cfb0a64884f8"
      },
      "outputs": [
        {
          "data": {
            "text/plain": [
              "GaussianNB()"
            ]
          },
          "execution_count": 57,
          "metadata": {},
          "output_type": "execute_result"
        }
      ],
      "source": [
        "gnbModel.fit(X_train, y_train)"
      ]
    },
    {
      "cell_type": "code",
      "execution_count": 59,
      "metadata": {
        "id": "NtbaY46osLSY"
      },
      "outputs": [],
      "source": [
        "y_pred = gnbModel.predict(X_test)"
      ]
    },
    {
      "cell_type": "code",
      "execution_count": 60,
      "metadata": {
        "colab": {
          "base_uri": "https://localhost:8080/"
        },
        "id": "qpTxHDCFsd2_",
        "outputId": "97fb4a88-fa3e-4b0f-8392-6db8246aa87d"
      },
      "outputs": [
        {
          "name": "stdout",
          "output_type": "stream",
          "text": [
            "              precision    recall  f1-score   support\n",
            "\n",
            "           0       0.98      0.94      0.96    129181\n",
            "           1       0.97      0.67      0.79     32102\n",
            "           2       0.10      1.00      0.18      1355\n",
            "           3       0.44      0.42      0.43       372\n",
            "           4       0.01      0.88      0.02        17\n",
            "\n",
            "    accuracy                           0.89    163027\n",
            "   macro avg       0.50      0.78      0.48    163027\n",
            "weighted avg       0.97      0.89      0.92    163027\n",
            "\n"
          ]
        }
      ],
      "source": [
        "print(classification_report(y_test,y_pred ))"
      ]
    },
    {
      "cell_type": "markdown",
      "metadata": {
        "id": "LiuEVpUb042p"
      },
      "source": [
        "#### Gaussian Mixture Model"
      ]
    },
    {
      "cell_type": "code",
      "execution_count": 61,
      "metadata": {
        "id": "wTbqMpbA03t0"
      },
      "outputs": [],
      "source": [
        "from sklearn.mixture import GaussianMixture\n",
        "gmmModel = GaussianMixture(n_components = 5, random_state= 7777)"
      ]
    },
    {
      "cell_type": "code",
      "execution_count": 62,
      "metadata": {
        "colab": {
          "base_uri": "https://localhost:8080/"
        },
        "id": "Qvk5K3MN1bLO",
        "outputId": "3bb02f1f-7e40-4806-ba6c-19bce3a316cb"
      },
      "outputs": [
        {
          "data": {
            "text/plain": [
              "GaussianMixture(n_components=5, random_state=7777)"
            ]
          },
          "execution_count": 62,
          "metadata": {},
          "output_type": "execute_result"
        }
      ],
      "source": [
        "gmmModel.fit(X_train, y_train)"
      ]
    },
    {
      "cell_type": "code",
      "execution_count": 70,
      "metadata": {
        "id": "eUcXkilQ1dig"
      },
      "outputs": [],
      "source": [
        "y_pred = gmmModel.predict(X_test)"
      ]
    },
    {
      "cell_type": "code",
      "execution_count": 71,
      "metadata": {
        "colab": {
          "base_uri": "https://localhost:8080/",
          "height": 282
        },
        "id": "OINXUKQ5dc4H",
        "outputId": "fc650e0b-3cce-445f-e71c-2ac6808d5116"
      },
      "outputs": [
        {
          "data": {
            "text/plain": [
              "<matplotlib.axes._subplots.AxesSubplot at 0x7f11193b2b90>"
            ]
          },
          "execution_count": 71,
          "metadata": {},
          "output_type": "execute_result"
        },
        {
          "data": {
            "image/png": "[encoded data removed]",
            "text/plain": [
              "<Figure size 432x288 with 1 Axes>"
            ]
          },
          "metadata": {
            "needs_background": "light"
          },
          "output_type": "display_data"
        }
      ],
      "source": [
        "y_test.hist()"
      ]
    },
    {
      "cell_type": "code",
      "execution_count": 73,
      "metadata": {
        "colab": {
          "base_uri": "https://localhost:8080/",
          "height": 265
        },
        "id": "Z16ky3aMdkTh",
        "outputId": "ea7212be-06bd-41df-aa8c-2e443083396e"
      },
      "outputs": [
        {
          "data": {
            "image/png": "[encoded data removed]",
            "text/plain": [
              "<Figure size 432x288 with 1 Axes>"
            ]
          },
          "metadata": {
            "needs_background": "light"
          },
          "output_type": "display_data"
        }
      ],
      "source": [
        "fig, ax = plt.subplots()\n",
        "ax.hist(y_pred)\n",
        "plt.show()"
      ]
    },
    {
      "cell_type": "markdown",
      "metadata": {
        "id": "22VZtI58eMCz"
      },
      "source": [
        "It's not good"
      ]
    },
    {
      "cell_type": "markdown",
      "metadata": {
        "id": "XrEwwHghaztt"
      },
      "source": [
        "#### Bernoulli Naive Bayes"
      ]
    },
    {
      "cell_type": "code",
      "execution_count": null,
      "metadata": {
        "id": "4FCRnRg3aztt"
      },
      "outputs": [],
      "source": [
        "from sklearn.naive_bayes import BernoulliNB\n",
        "berModel = BernoulliNB()"
      ]
    },
    {
      "cell_type": "code",
      "execution_count": null,
      "metadata": {
        "colab": {
          "base_uri": "https://localhost:8080/"
        },
        "id": "rSDidfhvaztu",
        "outputId": "29f96cda-4662-49d5-dd69-6a1af8b00307"
      },
      "outputs": [
        {
          "data": {
            "text/plain": [
              "BernoulliNB()"
            ]
          },
          "execution_count": 61,
          "metadata": {},
          "output_type": "execute_result"
        }
      ],
      "source": [
        "berModel.fit(X_train, y_train)"
      ]
    },
    {
      "cell_type": "code",
      "execution_count": null,
      "metadata": {
        "id": "cj_MVG9Haztu"
      },
      "outputs": [],
      "source": [
        "y_pred = berModel.predict(X_test)"
      ]
    },
    {
      "cell_type": "code",
      "execution_count": null,
      "metadata": {
        "colab": {
          "base_uri": "https://localhost:8080/"
        },
        "id": "iwPSamumaztu",
        "outputId": "2f70da24-220f-410d-9f76-260b975c0c75"
      },
      "outputs": [
        {
          "name": "stdout",
          "output_type": "stream",
          "text": [
            "              precision    recall  f1-score   support\n",
            "\n",
            "           0       0.99      0.94      0.97    129181\n",
            "           1       0.96      0.92      0.94     32102\n",
            "           2       0.10      0.68      0.17      1355\n",
            "           3       0.50      0.41      0.45       372\n",
            "           4       0.05      0.65      0.09        17\n",
            "\n",
            "    accuracy                           0.93    163027\n",
            "   macro avg       0.52      0.72      0.52    163027\n",
            "weighted avg       0.98      0.93      0.95    163027\n",
            "\n"
          ]
        }
      ],
      "source": [
        "print(classification_report(y_test,y_pred ))"
      ]
    },
    {
      "cell_type": "markdown",
      "metadata": {
        "id": "_6dC8P8Ev0ka"
      },
      "source": [
        "#### Logistic Regression"
      ]
    },
    {
      "cell_type": "code",
      "execution_count": null,
      "metadata": {
        "id": "5giPf9KhwDLl"
      },
      "outputs": [],
      "source": [
        "from sklearn.linear_model import LogisticRegression\n",
        "lrModel = LogisticRegression()"
      ]
    },
    {
      "cell_type": "code",
      "execution_count": null,
      "metadata": {
        "colab": {
          "base_uri": "https://localhost:8080/"
        },
        "id": "EaAaqDCQwKri",
        "outputId": "0315d932-5e3f-4614-ae2a-2d3f1b540b79"
      },
      "outputs": [
        {
          "data": {
            "text/plain": [
              "LogisticRegression()"
            ]
          },
          "execution_count": 66,
          "metadata": {},
          "output_type": "execute_result"
        }
      ],
      "source": [
        "lrModel.fit(X_train, y_train)"
      ]
    },
    {
      "cell_type": "code",
      "execution_count": null,
      "metadata": {
        "colab": {
          "base_uri": "https://localhost:8080/"
        },
        "id": "62asJxqfwR5u",
        "outputId": "e581b04f-7cd8-411a-b816-703c78b6e550"
      },
      "outputs": [
        {
          "name": "stdout",
          "output_type": "stream",
          "text": [
            "              precision    recall  f1-score   support\n",
            "\n",
            "           0       0.99      0.94      0.97    129181\n",
            "           1       0.96      0.92      0.94     32102\n",
            "           2       0.10      0.68      0.17      1355\n",
            "           3       0.50      0.41      0.45       372\n",
            "           4       0.05      0.65      0.09        17\n",
            "\n",
            "    accuracy                           0.93    163027\n",
            "   macro avg       0.52      0.72      0.52    163027\n",
            "weighted avg       0.98      0.93      0.95    163027\n",
            "\n"
          ]
        }
      ],
      "source": [
        "print(classification_report(y_test, y_pred))"
      ]
    },
    {
      "cell_type": "markdown",
      "metadata": {
        "id": "6o9yKCfDwVl4"
      },
      "source": [
        "#### Support Vector Machine"
      ]
    },
    {
      "cell_type": "code",
      "execution_count": null,
      "metadata": {
        "id": "FaWR_nLVwdFc"
      },
      "outputs": [],
      "source": [
        "from sklearn.svm import SVC\n",
        "svcModel = SVC(gamma = 'scale')"
      ]
    },
    {
      "cell_type": "code",
      "execution_count": null,
      "metadata": {
        "colab": {
          "base_uri": "https://localhost:8080/"
        },
        "id": "64HJm9ptwlxB",
        "outputId": "11cb3df7-493b-4d60-eac4-ad6f50f2cda9"
      },
      "outputs": [
        {
          "data": {
            "text/plain": [
              "SVC()"
            ]
          },
          "execution_count": 69,
          "metadata": {},
          "output_type": "execute_result"
        }
      ],
      "source": [
        "svcModel.fit(X_train, y_train)"
      ]
    },
    {
      "cell_type": "code",
      "execution_count": null,
      "metadata": {
        "id": "3vIwnMPmwtom"
      },
      "outputs": [],
      "source": [
        "y_pred = svcModel.predict(X_test)"
      ]
    },
    {
      "cell_type": "code",
      "execution_count": null,
      "metadata": {
        "colab": {
          "base_uri": "https://localhost:8080/"
        },
        "id": "s4GO2Wiiwuyp",
        "outputId": "484e64aa-3371-4ace-f6fb-58fecbbe9a2a"
      },
      "outputs": [
        {
          "name": "stdout",
          "output_type": "stream",
          "text": [
            "              precision    recall  f1-score   support\n",
            "\n",
            "           0       1.00      1.00      1.00    129181\n",
            "           1       0.99      1.00      1.00     32102\n",
            "           2       0.99      0.93      0.96      1355\n",
            "           3       0.94      0.79      0.86       372\n",
            "           4       0.90      0.53      0.67        17\n",
            "\n",
            "    accuracy                           1.00    163027\n",
            "   macro avg       0.97      0.85      0.90    163027\n",
            "weighted avg       1.00      1.00      1.00    163027\n",
            "\n"
          ]
        }
      ],
      "source": [
        "print(classification_report(y_test, y_pred))"
      ]
    },
    {
      "cell_type": "markdown",
      "metadata": {
        "id": "vtul6GEXtznf"
      },
      "source": [
        "#### Desicion Tree"
      ]
    },
    {
      "cell_type": "code",
      "execution_count": null,
      "metadata": {
        "id": "3eCBebQUt1Ad"
      },
      "outputs": [],
      "source": [
        "from sklearn.tree import DecisionTreeClassifier\n",
        "dtModel = DecisionTreeClassifier(criterion=\"entropy\", max_depth = 4)"
      ]
    },
    {
      "cell_type": "code",
      "execution_count": null,
      "metadata": {
        "colab": {
          "base_uri": "https://localhost:8080/"
        },
        "id": "jaYYOKMHu85y",
        "outputId": "58ee3eb9-65fc-4e5a-9ad9-ff2c655300f1"
      },
      "outputs": [
        {
          "data": {
            "text/plain": [
              "DecisionTreeClassifier(criterion='entropy', max_depth=4)"
            ]
          },
          "execution_count": 74,
          "metadata": {},
          "output_type": "execute_result"
        }
      ],
      "source": [
        "dtModel.fit(X_train, y_train)"
      ]
    },
    {
      "cell_type": "code",
      "execution_count": null,
      "metadata": {
        "id": "4nvcl1wFvIdR"
      },
      "outputs": [],
      "source": [
        "y_pred = dtModel.predict(X_test)"
      ]
    },
    {
      "cell_type": "code",
      "execution_count": null,
      "metadata": {
        "colab": {
          "base_uri": "https://localhost:8080/"
        },
        "id": "OinfPzJMvKEh",
        "outputId": "0cb8d72c-63dd-4240-c7a4-42e74e184c6c"
      },
      "outputs": [
        {
          "name": "stdout",
          "output_type": "stream",
          "text": [
            "              precision    recall  f1-score   support\n",
            "\n",
            "           0       1.00      1.00      1.00    129181\n",
            "           1       0.98      0.99      0.99     32102\n",
            "           2       0.80      0.91      0.85      1355\n",
            "           3       0.00      0.00      0.00       372\n",
            "           4       0.00      0.00      0.00        17\n",
            "\n",
            "    accuracy                           0.99    163027\n",
            "   macro avg       0.56      0.58      0.57    163027\n",
            "weighted avg       0.99      0.99      0.99    163027\n",
            "\n"
          ]
        }
      ],
      "source": [
        "print(classification_report(y_test, y_pred))"
      ]
    },
    {
      "cell_type": "markdown",
      "metadata": {
        "id": "62QwozPYvQxT"
      },
      "source": [
        "#### Random Forest"
      ]
    },
    {
      "cell_type": "code",
      "execution_count": null,
      "metadata": {
        "id": "VRSyFKS6vSfV"
      },
      "outputs": [],
      "source": [
        "from sklearn.ensemble import RandomForestClassifier\n",
        "rfModel = RandomForestClassifier(n_jobs= -1)"
      ]
    },
    {
      "cell_type": "code",
      "execution_count": null,
      "metadata": {
        "colab": {
          "base_uri": "https://localhost:8080/"
        },
        "id": "QMUqy74xvhh_",
        "outputId": "7fa8c1ba-51ba-4aeb-ee0e-c519841731f0"
      },
      "outputs": [
        {
          "data": {
            "text/plain": [
              "RandomForestClassifier(n_jobs=-1)"
            ]
          },
          "execution_count": 78,
          "metadata": {},
          "output_type": "execute_result"
        }
      ],
      "source": [
        "rfModel.fit(X_train, y_train)"
      ]
    },
    {
      "cell_type": "code",
      "execution_count": null,
      "metadata": {
        "id": "XbXuUD06voNz"
      },
      "outputs": [],
      "source": [
        "y_pred = rfModel.predict(X_test)"
      ]
    },
    {
      "cell_type": "code",
      "execution_count": null,
      "metadata": {
        "colab": {
          "base_uri": "https://localhost:8080/"
        },
        "id": "FJiLAqZCvpdH",
        "outputId": "04195728-4472-45da-b103-68a26d19553d"
      },
      "outputs": [
        {
          "name": "stdout",
          "output_type": "stream",
          "text": [
            "              precision    recall  f1-score   support\n",
            "\n",
            "           0       1.00      1.00      1.00    129181\n",
            "           1       1.00      1.00      1.00     32102\n",
            "           2       1.00      1.00      1.00      1355\n",
            "           3       1.00      0.96      0.98       372\n",
            "           4       0.87      0.76      0.81        17\n",
            "\n",
            "    accuracy                           1.00    163027\n",
            "   macro avg       0.97      0.94      0.96    163027\n",
            "weighted avg       1.00      1.00      1.00    163027\n",
            "\n"
          ]
        }
      ],
      "source": [
        "print(classification_report(y_test, y_pred))"
      ]
    },
    {
      "cell_type": "markdown",
      "metadata": {
        "id": "kKt5N3mgw2Or"
      },
      "source": [
        "#### AdaBoost"
      ]
    },
    {
      "cell_type": "code",
      "execution_count": null,
      "metadata": {
        "id": "jzW-onG4w4Wc"
      },
      "outputs": [],
      "source": [
        "from sklearn.ensemble import AdaBoostClassifier\n",
        "gbcModel = AdaBoostClassifier()"
      ]
    },
    {
      "cell_type": "code",
      "execution_count": null,
      "metadata": {
        "colab": {
          "base_uri": "https://localhost:8080/"
        },
        "id": "5mJ3PsfoxIf9",
        "outputId": "3a10a427-cd77-4605-e13e-040abbdb0265"
      },
      "outputs": [
        {
          "data": {
            "text/plain": [
              "AdaBoostClassifier()"
            ]
          },
          "execution_count": 82,
          "metadata": {},
          "output_type": "execute_result"
        }
      ],
      "source": [
        "gbcModel.fit(X_train, y_train)"
      ]
    },
    {
      "cell_type": "code",
      "execution_count": null,
      "metadata": {
        "id": "p5qJEH2xxMGI"
      },
      "outputs": [],
      "source": [
        "y_pred = gbcModel.predict(X_test)"
      ]
    },
    {
      "cell_type": "code",
      "execution_count": null,
      "metadata": {
        "colab": {
          "base_uri": "https://localhost:8080/"
        },
        "id": "1l80lNHPxNLJ",
        "outputId": "826588f7-26c2-4c1d-8ef8-e9c23b9ba66c"
      },
      "outputs": [
        {
          "name": "stdout",
          "output_type": "stream",
          "text": [
            "              precision    recall  f1-score   support\n",
            "\n",
            "           0       1.00      0.27      0.43    129181\n",
            "           1       0.24      0.95      0.39     32102\n",
            "           2       0.35      0.65      0.45      1355\n",
            "           3       0.85      0.51      0.64       372\n",
            "           4       0.02      0.18      0.03        17\n",
            "\n",
            "    accuracy                           0.41    163027\n",
            "   macro avg       0.49      0.51      0.39    163027\n",
            "weighted avg       0.85      0.41      0.42    163027\n",
            "\n"
          ]
        }
      ],
      "source": [
        "print(classification_report(y_test, y_pred))"
      ]
    },
    {
      "cell_type": "code",
      "execution_count": null,
      "metadata": {
        "id": "FcgyCFr-0Zzq"
      },
      "outputs": [],
      "source": []
    }
  ],
  "metadata": {
    "colab": {
      "collapsed_sections": [
        "cn-10H9DETSE",
        "iJ2v8h2CV7BI",
        "3cwi7jykWmeI",
        "8QLZ88aWHqYv",
        "N6ioN-Gb7WGU",
        "Zl0fge95n4aY"
      ],
      "name": "ASED_Network_Attacks_Detection_KDDCup1999.ipynb",
      "provenance": [],
      "toc_visible": true
    },
    "kernelspec": {
      "display_name": "Python 3.8.10 ('base')",
      "language": "python",
      "name": "python3"
    },
    "language_info": {
      "codemirror_mode": {
        "name": "ipython",
        "version": 3
      },
      "file_extension": ".py",
      "mimetype": "text/x-python",
      "name": "python",
      "nbconvert_exporter": "python",
      "pygments_lexer": "ipython3",
      "version": "3.8.10"
    },
    "vscode": {
      "interpreter": {
        "hash": "c60ee8538f118d3a4c64c86bb35672648ff4e07d5bfb56e0d18218f538c78bc8"
      }
    }
  },
  "nbformat": 4,
  "nbformat_minor": 0
}
